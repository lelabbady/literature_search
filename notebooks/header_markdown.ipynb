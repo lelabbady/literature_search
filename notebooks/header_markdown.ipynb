{
 "cells": [
  {
   "cell_type": "code",
   "execution_count": null,
   "metadata": {},
   "outputs": [],
   "source": [
    "# markdown file for top of website"
   ]
  },
  {
   "cell_type": "markdown",
   "metadata": {},
   "source": [
    " ### We built a tool to help researchers find foundational papers for a given keyword, or set of keywords. ###\n",
    "\n",
    "**To use:** The user can select from a subset of keywords (or multi-select with [shift]+click), and the plot will auto-populate with papers that are cited by multiple papers with a shared tag.\n",
    "\n",
    "**Interpreting the results:** Each point in the plot is a referenced paper, plotted by year (x-axis) and number of citations (y-axis). The size and color of the point denote how many papers in the selected group share the reference.\n",
    "\n",
    "**Future directions:** Right now, this tool is only for small-scale datasets; we manually labeled the papers. In the future, this tool could be scaled my assigning keywords computationally i.e. by taking the most used words (with a filter for common words like \"the\").\n",
    "\n",
    "a note about filtering: to build this proof-of-concept, we filtered out referenced papers with 0 semantic scholar citations."
   ]
  },
  {
   "cell_type": "code",
   "execution_count": null,
   "metadata": {},
   "outputs": [],
   "source": []
  }
 ],
 "metadata": {
  "language_info": {
   "name": "python"
  },
  "orig_nbformat": 4
 },
 "nbformat": 4,
 "nbformat_minor": 2
}
