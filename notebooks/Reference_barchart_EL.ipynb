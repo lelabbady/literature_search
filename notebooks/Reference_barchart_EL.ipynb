{
 "cells": [
  {
   "cell_type": "code",
   "execution_count": 48,
   "id": "327f234d",
   "metadata": {},
   "outputs": [],
   "source": [
    "import pandas as pd\n",
    "import json\n",
    "import altair as alt\n"
   ]
  },
  {
   "cell_type": "code",
   "execution_count": 14,
   "id": "29642955",
   "metadata": {
    "scrolled": false
   },
   "outputs": [],
   "source": [
    "\n",
    "  \n",
    "# Opening JSON file\n",
    "f = open('./paper_data.json')\n",
    "# f = open(\"./tag_label.json\")\n",
    "  \n",
    "# returns JSON object as \n",
    "# a dictionary\n",
    "data = json.load(f)\n",
    "  \n",
    "# Iterating through the json\n",
    "# list\n",
    "papers = []\n",
    "title_dicts = []\n",
    "for i in data:\n",
    "    #print(i.keys())\n",
    "    #print(i['csl']['title'])\n",
    "    #print(i['s2data']['referenceCount'],i['s2data']['citationCount'],i['s2data']['influentialCitationCount'])\n",
    "    #print(len(i['s2data']['references']))\n",
    "    if 'csl' in i.keys() and i['csl'] != None:\n",
    "        #print(i['csl'])\n",
    "        t = i['csl']['title']\n",
    "        doi = i['doi']\n",
    "        mini_dict = {\"doi\":doi, \"title\":t, \"tags\":[], \"modes\":[]}\n",
    "        title_dicts.append(mini_dict)\n",
    "  \n",
    "# Closing file\n",
    "f.close()"
   ]
  },
  {
   "cell_type": "code",
   "execution_count": 15,
   "id": "348b8474",
   "metadata": {},
   "outputs": [
    {
     "data": {
      "text/plain": [
       "63"
      ]
     },
     "execution_count": 15,
     "metadata": {},
     "output_type": "execute_result"
    }
   ],
   "source": [
    "len(title_dicts)"
   ]
  },
  {
   "cell_type": "code",
   "execution_count": 24,
   "id": "7dfce3d7",
   "metadata": {
    "scrolled": true
   },
   "outputs": [],
   "source": [
    "titles_json = json.dumps(title_dicts)\n"
   ]
  },
  {
   "cell_type": "code",
   "execution_count": 25,
   "id": "8f540625",
   "metadata": {},
   "outputs": [],
   "source": [
    "with open(\"tag_label_v2.json\", \"w\") as outfile:\n",
    "    outfile.write(titles_json)"
   ]
  },
  {
   "cell_type": "markdown",
   "id": "704898b9",
   "metadata": {},
   "source": [
    "### To Dos\n",
    "\n",
    "- add tags to paper tiles\n",
    "- create bar chart based on tags (incorporate theory/tools distinction)\n",
    "- (find a more robust way to parse titles)\n",
    "- collect top infleuntial citations for each paper (from semantic scholar)\n",
    "- aggregate top papers for each 'group' - as defined by bar chart\n",
    "- create heatmap based on top paper data\n",
    "- publish to website"
   ]
  },
  {
   "cell_type": "code",
   "execution_count": null,
   "id": "893088c1",
   "metadata": {},
   "outputs": [],
   "source": [
    "#### making a bar chart with the paper tags"
   ]
  },
  {
   "cell_type": "code",
   "execution_count": 124,
   "id": "1f558594",
   "metadata": {},
   "outputs": [],
   "source": [
    "# read in the json file\n",
    "f = open('tag_label_v2.json')\n",
    "paper_tags = json.load(f)\n",
    "\n",
    "df = pd.DataFrame.from_dict(paper_tags)\n",
    "df['tags'] = df['tags'].str.join(',')\n",
    "df['modes'] = df['modes'].str.join('[]')\n",
    "\n",
    "df.head()"
   ]
  },
  {
   "cell_type": "code",
   "execution_count": 126,
   "id": "15c5bca1",
   "metadata": {},
   "outputs": [
    {
     "data": {
      "text/html": [
       "<div>\n",
       "<style scoped>\n",
       "    .dataframe tbody tr th:only-of-type {\n",
       "        vertical-align: middle;\n",
       "    }\n",
       "\n",
       "    .dataframe tbody tr th {\n",
       "        vertical-align: top;\n",
       "    }\n",
       "\n",
       "    .dataframe thead th {\n",
       "        text-align: right;\n",
       "    }\n",
       "</style>\n",
       "<table border=\"1\" class=\"dataframe\">\n",
       "  <thead>\n",
       "    <tr style=\"text-align: right;\">\n",
       "      <th></th>\n",
       "      <th>doi</th>\n",
       "      <th>title</th>\n",
       "      <th>tags</th>\n",
       "      <th>modes</th>\n",
       "      <th>tags_1</th>\n",
       "      <th>tags_2</th>\n",
       "      <th>tags_3</th>\n",
       "      <th>tags_4</th>\n",
       "      <th>idx</th>\n",
       "    </tr>\n",
       "  </thead>\n",
       "  <tbody>\n",
       "    <tr>\n",
       "      <th>0</th>\n",
       "      <td>10.48550/arXiv.2205.02007</td>\n",
       "      <td>A Computational Inflection for Scientific Disc...</td>\n",
       "      <td>augmented_lit_search</td>\n",
       "      <td>theory</td>\n",
       "      <td>augmented_lit_search</td>\n",
       "      <td>NaN</td>\n",
       "      <td>NaN</td>\n",
       "      <td>NaN</td>\n",
       "      <td>0</td>\n",
       "    </tr>\n",
       "    <tr>\n",
       "      <th>1</th>\n",
       "      <td>10.23915/distill.00028</td>\n",
       "      <td>Communicating with Interactive Articles</td>\n",
       "      <td>augmented_visualization,augmented_formatting</td>\n",
       "      <td>theory</td>\n",
       "      <td>augmented_visualization</td>\n",
       "      <td>augmented_formatting</td>\n",
       "      <td>NaN</td>\n",
       "      <td>NaN</td>\n",
       "      <td>1</td>\n",
       "    </tr>\n",
       "    <tr>\n",
       "      <th>2</th>\n",
       "      <td>10.1111/cgf.13720</td>\n",
       "      <td>Capture &amp;amp; Analysis of Active Reading Behav...</td>\n",
       "      <td>authoring,augmented_visualization,augmented_fo...</td>\n",
       "      <td>tools</td>\n",
       "      <td>authoring</td>\n",
       "      <td>augmented_visualization</td>\n",
       "      <td>augmented_formatting</td>\n",
       "      <td>analytics</td>\n",
       "      <td>2</td>\n",
       "    </tr>\n",
       "    <tr>\n",
       "      <th>3</th>\n",
       "      <td>10.1093/comjnl/27.2.97</td>\n",
       "      <td>Literate Programming</td>\n",
       "      <td>augmented_formatting,authoring</td>\n",
       "      <td>tools</td>\n",
       "      <td>augmented_formatting</td>\n",
       "      <td>authoring</td>\n",
       "      <td>NaN</td>\n",
       "      <td>NaN</td>\n",
       "      <td>3</td>\n",
       "    </tr>\n",
       "    <tr>\n",
       "      <th>4</th>\n",
       "      <td>10.1145/3173574.3173606</td>\n",
       "      <td>Exploration and Explanation in Computational N...</td>\n",
       "      <td>authoring,augmented_formatting</td>\n",
       "      <td>theory</td>\n",
       "      <td>authoring</td>\n",
       "      <td>augmented_formatting</td>\n",
       "      <td>NaN</td>\n",
       "      <td>NaN</td>\n",
       "      <td>4</td>\n",
       "    </tr>\n",
       "  </tbody>\n",
       "</table>\n",
       "</div>"
      ],
      "text/plain": [
       "                         doi  \\\n",
       "0  10.48550/arXiv.2205.02007   \n",
       "1     10.23915/distill.00028   \n",
       "2          10.1111/cgf.13720   \n",
       "3     10.1093/comjnl/27.2.97   \n",
       "4    10.1145/3173574.3173606   \n",
       "\n",
       "                                               title  \\\n",
       "0  A Computational Inflection for Scientific Disc...   \n",
       "1            Communicating with Interactive Articles   \n",
       "2  Capture &amp; Analysis of Active Reading Behav...   \n",
       "3                               Literate Programming   \n",
       "4  Exploration and Explanation in Computational N...   \n",
       "\n",
       "                                                tags   modes  \\\n",
       "0                               augmented_lit_search  theory   \n",
       "1       augmented_visualization,augmented_formatting  theory   \n",
       "2  authoring,augmented_visualization,augmented_fo...   tools   \n",
       "3                     augmented_formatting,authoring   tools   \n",
       "4                     authoring,augmented_formatting  theory   \n",
       "\n",
       "                    tags_1                   tags_2                tags_3  \\\n",
       "0     augmented_lit_search                      NaN                   NaN   \n",
       "1  augmented_visualization     augmented_formatting                   NaN   \n",
       "2                authoring  augmented_visualization  augmented_formatting   \n",
       "3     augmented_formatting                authoring                   NaN   \n",
       "4                authoring     augmented_formatting                   NaN   \n",
       "\n",
       "      tags_4  idx  \n",
       "0        NaN    0  \n",
       "1        NaN    1  \n",
       "2  analytics    2  \n",
       "3        NaN    3  \n",
       "4        NaN    4  "
      ]
     },
     "execution_count": 126,
     "metadata": {},
     "output_type": "execute_result"
    }
   ],
   "source": [
    "# split the tags column into multiple columns with single tags in them\n",
    "df[['tags_1', 'tags_2', 'tags_3', 'tags_4']] = df['tags'].apply(lambda x : pd.Series(x.split(',')))\n",
    "df[\"idx\"] = df.index\n",
    "df.head()"
   ]
  },
  {
   "cell_type": "code",
   "execution_count": 127,
   "id": "cc57d128",
   "metadata": {},
   "outputs": [
    {
     "data": {
      "text/plain": [
       "945"
      ]
     },
     "execution_count": 127,
     "metadata": {},
     "output_type": "execute_result"
    }
   ],
   "source": [
    "# format long\n",
    "df_long = pd.melt(df, id_vars='title' , value_vars=['modes','tags_1', 'tags_2', 'tags_3', 'tags_4'])\n",
    "df_long.size\n"
   ]
  },
  {
   "cell_type": "code",
   "execution_count": 129,
   "id": "a1ac7bc1",
   "metadata": {},
   "outputs": [],
   "source": [
    "# combine some tags - for now - ask LE about later\n",
    "df_long = df_long.replace('augmented_formatting','layout')\n",
    "df_long = df_long.replace('augmented_visualization','visualization')\n",
    "df_long = df_long.replace('augmented_lit_search','lit_search')"
   ]
  },
  {
   "cell_type": "code",
   "execution_count": 130,
   "id": "8cd3b271",
   "metadata": {},
   "outputs": [
    {
     "data": {
      "text/html": [
       "\n",
       "<div id=\"altair-viz-1c6d67a02c11489a80cf0f8513581b9e\"></div>\n",
       "<script type=\"text/javascript\">\n",
       "  var VEGA_DEBUG = (typeof VEGA_DEBUG == \"undefined\") ? {} : VEGA_DEBUG;\n",
       "  (function(spec, embedOpt){\n",
       "    let outputDiv = document.currentScript.previousElementSibling;\n",
       "    if (outputDiv.id !== \"altair-viz-1c6d67a02c11489a80cf0f8513581b9e\") {\n",
       "      outputDiv = document.getElementById(\"altair-viz-1c6d67a02c11489a80cf0f8513581b9e\");\n",
       "    }\n",
       "    const paths = {\n",
       "      \"vega\": \"https://cdn.jsdelivr.net/npm//vega@5?noext\",\n",
       "      \"vega-lib\": \"https://cdn.jsdelivr.net/npm//vega-lib?noext\",\n",
       "      \"vega-lite\": \"https://cdn.jsdelivr.net/npm//vega-lite@4.17.0?noext\",\n",
       "      \"vega-embed\": \"https://cdn.jsdelivr.net/npm//vega-embed@6?noext\",\n",
       "    };\n",
       "\n",
       "    function maybeLoadScript(lib, version) {\n",
       "      var key = `${lib.replace(\"-\", \"\")}_version`;\n",
       "      return (VEGA_DEBUG[key] == version) ?\n",
       "        Promise.resolve(paths[lib]) :\n",
       "        new Promise(function(resolve, reject) {\n",
       "          var s = document.createElement('script');\n",
       "          document.getElementsByTagName(\"head\")[0].appendChild(s);\n",
       "          s.async = true;\n",
       "          s.onload = () => {\n",
       "            VEGA_DEBUG[key] = version;\n",
       "            return resolve(paths[lib]);\n",
       "          };\n",
       "          s.onerror = () => reject(`Error loading script: ${paths[lib]}`);\n",
       "          s.src = paths[lib];\n",
       "        });\n",
       "    }\n",
       "\n",
       "    function showError(err) {\n",
       "      outputDiv.innerHTML = `<div class=\"error\" style=\"color:red;\">${err}</div>`;\n",
       "      throw err;\n",
       "    }\n",
       "\n",
       "    function displayChart(vegaEmbed) {\n",
       "      vegaEmbed(outputDiv, spec, embedOpt)\n",
       "        .catch(err => showError(`Javascript Error: ${err.message}<br>This usually means there's a typo in your chart specification. See the javascript console for the full traceback.`));\n",
       "    }\n",
       "\n",
       "    if(typeof define === \"function\" && define.amd) {\n",
       "      requirejs.config({paths});\n",
       "      require([\"vega-embed\"], displayChart, err => showError(`Error loading script: ${err.message}`));\n",
       "    } else {\n",
       "      maybeLoadScript(\"vega\", \"5\")\n",
       "        .then(() => maybeLoadScript(\"vega-lite\", \"4.17.0\"))\n",
       "        .then(() => maybeLoadScript(\"vega-embed\", \"6\"))\n",
       "        .catch(showError)\n",
       "        .then(() => displayChart(vegaEmbed));\n",
       "    }\n",
       "  })({\"config\": {\"view\": {\"continuousWidth\": 400, \"continuousHeight\": 300}}, \"data\": {\"name\": \"data-9171f12ba3aee63a169113797a0e6b39\"}, \"mark\": \"bar\", \"encoding\": {\"color\": {\"condition\": {\"value\": \"steelblue\", \"selection\": \"selector006\"}, \"value\": \"grey\"}, \"x\": {\"field\": \"value\", \"type\": \"nominal\"}, \"y\": {\"aggregate\": \"count\", \"type\": \"quantitative\"}}, \"selection\": {\"selector006\": {\"type\": \"multi\", \"encodings\": [\"x\"]}}, \"$schema\": \"https://vega.github.io/schema/vega-lite/v4.17.0.json\", \"datasets\": {\"data-9171f12ba3aee63a169113797a0e6b39\": [{\"title\": \"A Computational Inflection for Scientific Discovery\", \"variable\": \"modes\", \"value\": \"theory\"}, {\"title\": \"Communicating with Interactive Articles\", \"variable\": \"modes\", \"value\": \"theory\"}, {\"title\": \"Capture &amp; Analysis of Active Reading Behaviors for Interactive Articles on the Web\", \"variable\": \"modes\", \"value\": \"tools\"}, {\"title\": \"Literate Programming\", \"variable\": \"modes\", \"value\": \"tools\"}, {\"title\": \"Exploration and Explanation in Computational Notebooks\", \"variable\": \"modes\", \"value\": \"theory\"}, {\"title\": \"mage: Fluid Moves Between Code and Graphical Work in Computational Notebooks\", \"variable\": \"modes\", \"value\": \"tools\"}, {\"title\": \"Reactive, reproducible, collaborative: computational notebooks evolve\", \"variable\": \"modes\", \"value\": \"theory\"}, {\"title\": \"Idyll\", \"variable\": \"modes\", \"value\": \"tools\"}, {\"title\": \"Open collaborative writing with Manubot\", \"variable\": \"modes\", \"value\": \"tools\"}, {\"title\": \"Jupyter Book\", \"variable\": \"modes\", \"value\": \"tools\"}, {\"title\": \"Augmenting Scientific Papers with Just-in-Time, Position-Sensitive Definitions of Terms and Symbols\", \"variable\": \"modes\", \"value\": \"tools\"}, {\"title\": \"Math Augmentation: How Authors Enhance the Readability of Formulas using Novel Visual Design Practices\", \"variable\": \"modes\", \"value\": \"theory\"}, {\"title\": \"CiteRead: Integrating Localized Citation Contexts into Scientific Paper Reading\", \"variable\": \"modes\", \"value\": \"tools\"}, {\"title\": \"SciSight: Combining faceted navigation and research group detection for COVID-19 exploratory scientific search\", \"variable\": \"modes\", \"value\": \"tools\"}, {\"title\": \"The cost structure of sensemaking\", \"variable\": \"modes\", \"value\": \"theory\"}, {\"title\": \"Apolo\", \"variable\": \"modes\", \"value\": \"tools\"}, {\"title\": \"Edit wear and read wear\", \"variable\": \"modes\", \"value\": \"theory\"}, {\"title\": \"Successful classroom deployment of a social document annotation system\", \"variable\": \"modes\", \"value\": \"theory\"}, {\"title\": \"Robust intra-document locations\", \"variable\": \"modes\", \"value\": \"theory\"}, {\"title\": \"Voyagers and voyeurs\", \"variable\": \"modes\", \"value\": \"tools\"}, {\"title\": \"PAWLS: PDF Annotation With Labels and Structure\", \"variable\": \"modes\", \"value\": \"tools\"}, {\"title\": \"Some Results on the Function and Quality of Citations\", \"variable\": \"modes\", \"value\": \"theory\"}, {\"title\": \"Identifying Important Citations Using Contextual Information from Full Text\", \"variable\": \"modes\", \"value\": \"tools\"}, {\"title\": \"Measuring academic influence: Not all citations are equal\", \"variable\": \"modes\", \"value\": \"tools\"}, {\"title\": \"Science of science\", \"variable\": \"modes\", \"value\": \"theory\"}, {\"title\": \"Clickstream Data Yields High-Resolution Maps of Science\", \"variable\": \"modes\", \"value\": \"tools\"}, {\"title\": \"Eigenfactor: Measuring the value and prestige of scholarly journals\", \"variable\": \"modes\", \"value\": \"tools\"}, {\"title\": \"A Principal Component Analysis of 39 Scientific Impact Measures\", \"variable\": \"modes\", \"value\": \"tools\"}, {\"title\": \"Extracting a Knowledge Base of Mechanisms from COVID-19 Papers\", \"variable\": \"modes\", \"value\": \"tools\"}, {\"title\": \"Unsupervised word embeddings capture latent knowledge from materials science literature\", \"variable\": \"modes\", \"value\": \"tools\"}, {\"title\": \"Literature Based Discovery: Models, methods, and trends\", \"variable\": \"modes\", \"value\": \"theory\"}, {\"title\": \"Recent advances in biomedical literature mining\", \"variable\": \"modes\", \"value\": \"theory\"}, {\"title\": \"Construction of the Literature Graph in Semantic Scholar\", \"variable\": \"modes\", \"value\": \"tools\"}, {\"title\": \"TLDR: Extreme Summarization of Scientific Documents\", \"variable\": \"modes\", \"value\": \"tools\"}, {\"title\": \"GROBID: Combining Automatic Bibliographic Data Recognition and Term Extraction for Scholarship Publications\", \"variable\": \"modes\", \"value\": \"tools\"}, {\"title\": \"A Machine Reading System for Assembling Synthetic Paleontological Databases\", \"variable\": \"modes\", \"value\": \"tools\"}, {\"title\": \"Incremental knowledge base construction using DeepDive\", \"variable\": \"modes\", \"value\": \"tools\"}, {\"title\": \"ReVision\", \"variable\": \"modes\", \"value\": \"tools\"}, {\"title\": \"VILA: Improving Structured Content Extraction from Scientific PDFs Using Visual Layout Groups\", \"variable\": \"modes\", \"value\": \"tools\"}, {\"title\": \"Reverse\\u2010Engineering Visualizations: Recovering Visual Encodings from Chart Images\", \"variable\": \"modes\", \"value\": \"tools\"}, {\"title\": \"Viziometrics: Analyzing Visual Information in the Scientific Literature\", \"variable\": \"modes\", \"value\": \"theory\"}, {\"title\": \"Improving the Accessibility of Scientific Documents: Current State, User Needs, and a System Solution to Enhance Scientific PDF Accessibility for Blind and Low Vision Users\", \"variable\": \"modes\", \"value\": \"theory\"}, {\"title\": \"SciA11y: Converting Scientific Papers to Accessible HTML\", \"variable\": \"modes\", \"value\": \"tools\"}, {\"title\": \"An Uninteresting Tour Through Why Our Research Papers Aren't Accessible\", \"variable\": \"modes\", \"value\": \"theory\"}, {\"title\": \"Accessible Visualization via Natural Language Descriptions: A Four-Level Model of Semantic Content\", \"variable\": \"modes\", \"value\": \"tools\"}, {\"title\": \"Rich Screen Reader Experiences for Accessible Data Visualization\", \"variable\": \"modes\", \"value\": \"tools\"}, {\"title\": \"Facilitating Document Reading by Linking Text and Tables\", \"variable\": \"modes\", \"value\": \"tools\"}, {\"title\": \"Extracting and Retargeting Color Mappings from Bitmap Images of Visualizations\", \"variable\": \"modes\", \"value\": \"tools\"}, {\"title\": \"Graphical Overlays: Using Layered Elements to Aid Chart Reading\", \"variable\": \"modes\", \"value\": \"tools\"}, {\"title\": \"Towards Understanding How Readers Integrate Charts and Captions: A Case Study with Line Charts\", \"variable\": \"modes\", \"value\": \"theory\"}, {\"title\": \"Adaptive document layout\", \"variable\": \"modes\", \"value\": \"theory\"}, {\"title\": \"Fidyll: A Compiler for Cross-Format Data Stories &amp; Explorable Explanations\", \"variable\": \"modes\", \"value\": \"tools\"}, {\"title\": \"Visual Abstracts to Disseminate Research on Social Media\", \"variable\": \"modes\", \"value\": \"theory\"}, {\"title\": \"Review of automatic document formatting\", \"variable\": \"modes\", \"value\": \"theory\"}, {\"title\": \"Toward tighter tables\", \"variable\": \"modes\", \"value\": \"tools\"}, {\"title\": \"The unacknowledged convergence of open source, open access, and open science\", \"variable\": \"modes\", \"value\": \"theory\"}, {\"title\": \"Preregistration Is Hard, And Worthwhile\", \"variable\": \"modes\", \"value\": \"theory\"}, {\"title\": \"Is Preregistration Worthwhile?\", \"variable\": \"modes\", \"value\": \"theory\"}, {\"title\": \"Open Science: One Term, Five Schools of Thought\", \"variable\": \"modes\", \"value\": \"theory\"}, {\"title\": \"The state of OA: a large-scale analysis of the prevalence and impact of Open Access articles\", \"variable\": \"modes\", \"value\": \"theory\"}, {\"title\": \"Going digital\", \"variable\": \"modes\", \"value\": \"theory\"}, {\"title\": \"ArXiv at 20\", \"variable\": \"modes\", \"value\": \"theory\"}, {\"title\": \"Distill Hiatus\", \"variable\": \"modes\", \"value\": \"theory\"}, {\"title\": \"A Computational Inflection for Scientific Discovery\", \"variable\": \"tags_1\", \"value\": \"lit_search\"}, {\"title\": \"Communicating with Interactive Articles\", \"variable\": \"tags_1\", \"value\": \"visualization\"}, {\"title\": \"Capture &amp; Analysis of Active Reading Behaviors for Interactive Articles on the Web\", \"variable\": \"tags_1\", \"value\": \"authoring\"}, {\"title\": \"Literate Programming\", \"variable\": \"tags_1\", \"value\": \"layout\"}, {\"title\": \"Exploration and Explanation in Computational Notebooks\", \"variable\": \"tags_1\", \"value\": \"authoring\"}, {\"title\": \"mage: Fluid Moves Between Code and Graphical Work in Computational Notebooks\", \"variable\": \"tags_1\", \"value\": \"authoring\"}, {\"title\": \"Reactive, reproducible, collaborative: computational notebooks evolve\", \"variable\": \"tags_1\", \"value\": \"collaboration\"}, {\"title\": \"Idyll\", \"variable\": \"tags_1\", \"value\": \"authoring\"}, {\"title\": \"Open collaborative writing with Manubot\", \"variable\": \"tags_1\", \"value\": \"authoring\"}, {\"title\": \"Jupyter Book\", \"variable\": \"tags_1\", \"value\": \"layout\"}, {\"title\": \"Augmenting Scientific Papers with Just-in-Time, Position-Sensitive Definitions of Terms and Symbols\", \"variable\": \"tags_1\", \"value\": \"layout\"}, {\"title\": \"Math Augmentation: How Authors Enhance the Readability of Formulas using Novel Visual Design Practices\", \"variable\": \"tags_1\", \"value\": \"layout\"}, {\"title\": \"CiteRead: Integrating Localized Citation Contexts into Scientific Paper Reading\", \"variable\": \"tags_1\", \"value\": \"layout\"}, {\"title\": \"SciSight: Combining faceted navigation and research group detection for COVID-19 exploratory scientific search\", \"variable\": \"tags_1\", \"value\": \"lit_search\"}, {\"title\": \"The cost structure of sensemaking\", \"variable\": \"tags_1\", \"value\": \"lit_search\"}, {\"title\": \"Apolo\", \"variable\": \"tags_1\", \"value\": \"lit_search\"}, {\"title\": \"Edit wear and read wear\", \"variable\": \"tags_1\", \"value\": \"lit_search\"}, {\"title\": \"Successful classroom deployment of a social document annotation system\", \"variable\": \"tags_1\", \"value\": \"layout\"}, {\"title\": \"Robust intra-document locations\", \"variable\": \"tags_1\", \"value\": \"collaboration\"}, {\"title\": \"Voyagers and voyeurs\", \"variable\": \"tags_1\", \"value\": \"visualization\"}, {\"title\": \"PAWLS: PDF Annotation With Labels and Structure\", \"variable\": \"tags_1\", \"value\": \"collaboration\"}, {\"title\": \"Some Results on the Function and Quality of Citations\", \"variable\": \"tags_1\", \"value\": \"analytics\"}, {\"title\": \"Identifying Important Citations Using Contextual Information from Full Text\", \"variable\": \"tags_1\", \"value\": \"lit_search\"}, {\"title\": \"Measuring academic influence: Not all citations are equal\", \"variable\": \"tags_1\", \"value\": \"lit_search\"}, {\"title\": \"Science of science\", \"variable\": \"tags_1\", \"value\": \"lit_search\"}, {\"title\": \"Clickstream Data Yields High-Resolution Maps of Science\", \"variable\": \"tags_1\", \"value\": \"lit_search\"}, {\"title\": \"Eigenfactor: Measuring the value and prestige of scholarly journals\", \"variable\": \"tags_1\", \"value\": \"lit_search\"}, {\"title\": \"A Principal Component Analysis of 39 Scientific Impact Measures\", \"variable\": \"tags_1\", \"value\": \"lit_search\"}, {\"title\": \"Extracting a Knowledge Base of Mechanisms from COVID-19 Papers\", \"variable\": \"tags_1\", \"value\": \"lit_search\"}, {\"title\": \"Unsupervised word embeddings capture latent knowledge from materials science literature\", \"variable\": \"tags_1\", \"value\": \"lit_search\"}, {\"title\": \"Literature Based Discovery: Models, methods, and trends\", \"variable\": \"tags_1\", \"value\": \"lit_search\"}, {\"title\": \"Recent advances in biomedical literature mining\", \"variable\": \"tags_1\", \"value\": \"lit_search\"}, {\"title\": \"Construction of the Literature Graph in Semantic Scholar\", \"variable\": \"tags_1\", \"value\": \"publishing/libraries\"}, {\"title\": \"TLDR: Extreme Summarization of Scientific Documents\", \"variable\": \"tags_1\", \"value\": \"understanding\"}, {\"title\": \"GROBID: Combining Automatic Bibliographic Data Recognition and Term Extraction for Scholarship Publications\", \"variable\": \"tags_1\", \"value\": \"understanding\"}, {\"title\": \"A Machine Reading System for Assembling Synthetic Paleontological Databases\", \"variable\": \"tags_1\", \"value\": \"understanding\"}, {\"title\": \"Incremental knowledge base construction using DeepDive\", \"variable\": \"tags_1\", \"value\": \"understanding\"}, {\"title\": \"ReVision\", \"variable\": \"tags_1\", \"value\": \"visualization\"}, {\"title\": \"VILA: Improving Structured Content Extraction from Scientific PDFs Using Visual Layout Groups\", \"variable\": \"tags_1\", \"value\": \"layout\"}, {\"title\": \"Reverse\\u2010Engineering Visualizations: Recovering Visual Encodings from Chart Images\", \"variable\": \"tags_1\", \"value\": \"visualization\"}, {\"title\": \"Viziometrics: Analyzing Visual Information in the Scientific Literature\", \"variable\": \"tags_1\", \"value\": \"visualization\"}, {\"title\": \"Improving the Accessibility of Scientific Documents: Current State, User Needs, and a System Solution to Enhance Scientific PDF Accessibility for Blind and Low Vision Users\", \"variable\": \"tags_1\", \"value\": \"accessibility\"}, {\"title\": \"SciA11y: Converting Scientific Papers to Accessible HTML\", \"variable\": \"tags_1\", \"value\": \"accessibility\"}, {\"title\": \"An Uninteresting Tour Through Why Our Research Papers Aren't Accessible\", \"variable\": \"tags_1\", \"value\": \"accessibility\"}, {\"title\": \"Accessible Visualization via Natural Language Descriptions: A Four-Level Model of Semantic Content\", \"variable\": \"tags_1\", \"value\": \"accessibility\"}, {\"title\": \"Rich Screen Reader Experiences for Accessible Data Visualization\", \"variable\": \"tags_1\", \"value\": \"layout\"}, {\"title\": \"Facilitating Document Reading by Linking Text and Tables\", \"variable\": \"tags_1\", \"value\": \"layout\"}, {\"title\": \"Extracting and Retargeting Color Mappings from Bitmap Images of Visualizations\", \"variable\": \"tags_1\", \"value\": \"visualization\"}, {\"title\": \"Graphical Overlays: Using Layered Elements to Aid Chart Reading\", \"variable\": \"tags_1\", \"value\": \"visualization\"}, {\"title\": \"Towards Understanding How Readers Integrate Charts and Captions: A Case Study with Line Charts\", \"variable\": \"tags_1\", \"value\": \"visualization\"}, {\"title\": \"Adaptive document layout\", \"variable\": \"tags_1\", \"value\": \"layout\"}, {\"title\": \"Fidyll: A Compiler for Cross-Format Data Stories &amp; Explorable Explanations\", \"variable\": \"tags_1\", \"value\": \"visualization\"}, {\"title\": \"Visual Abstracts to Disseminate Research on Social Media\", \"variable\": \"tags_1\", \"value\": \"visualization\"}, {\"title\": \"Review of automatic document formatting\", \"variable\": \"tags_1\", \"value\": \"layout\"}, {\"title\": \"Toward tighter tables\", \"variable\": \"tags_1\", \"value\": \"visualization\"}, {\"title\": \"The unacknowledged convergence of open source, open access, and open science\", \"variable\": \"tags_1\", \"value\": \"accessibility\"}, {\"title\": \"Preregistration Is Hard, And Worthwhile\", \"variable\": \"tags_1\", \"value\": \"publishing/libraries\"}, {\"title\": \"Is Preregistration Worthwhile?\", \"variable\": \"tags_1\", \"value\": \"publishing/libraries\"}, {\"title\": \"Open Science: One Term, Five Schools of Thought\", \"variable\": \"tags_1\", \"value\": \"publishing/libraries\"}, {\"title\": \"The state of OA: a large-scale analysis of the prevalence and impact of Open Access articles\", \"variable\": \"tags_1\", \"value\": \"publishing/libraries\"}, {\"title\": \"Going digital\", \"variable\": \"tags_1\", \"value\": \"publishing/libraries\"}, {\"title\": \"ArXiv at 20\", \"variable\": \"tags_1\", \"value\": \"publishing/libraries\"}, {\"title\": \"Distill Hiatus\", \"variable\": \"tags_1\", \"value\": \"publishing/libraries\"}, {\"title\": \"Communicating with Interactive Articles\", \"variable\": \"tags_2\", \"value\": \"layout\"}, {\"title\": \"Capture &amp; Analysis of Active Reading Behaviors for Interactive Articles on the Web\", \"variable\": \"tags_2\", \"value\": \"visualization\"}, {\"title\": \"Literate Programming\", \"variable\": \"tags_2\", \"value\": \"authoring\"}, {\"title\": \"Exploration and Explanation in Computational Notebooks\", \"variable\": \"tags_2\", \"value\": \"layout\"}, {\"title\": \"Reactive, reproducible, collaborative: computational notebooks evolve\", \"variable\": \"tags_2\", \"value\": \"layout\"}, {\"title\": \"Idyll\", \"variable\": \"tags_2\", \"value\": \"visualization\"}, {\"title\": \"Open collaborative writing with Manubot\", \"variable\": \"tags_2\", \"value\": \"collaboration\"}, {\"title\": \"Math Augmentation: How Authors Enhance the Readability of Formulas using Novel Visual Design Practices\", \"variable\": \"tags_2\", \"value\": \"visualization\"}, {\"title\": \"CiteRead: Integrating Localized Citation Contexts into Scientific Paper Reading\", \"variable\": \"tags_2\", \"value\": \"lit_search\"}, {\"title\": \"SciSight: Combining faceted navigation and research group detection for COVID-19 exploratory scientific search\", \"variable\": \"tags_2\", \"value\": \"visualization\"}, {\"title\": \"Apolo\", \"variable\": \"tags_2\", \"value\": \"visualization\"}, {\"title\": \"Edit wear and read wear\", \"variable\": \"tags_2\", \"value\": \"visualization\"}, {\"title\": \"Successful classroom deployment of a social document annotation system\", \"variable\": \"tags_2\", \"value\": \"collaboration\"}, {\"title\": \"Voyagers and voyeurs\", \"variable\": \"tags_2\", \"value\": \"collaboration\"}, {\"title\": \"PAWLS: PDF Annotation With Labels and Structure\", \"variable\": \"tags_2\", \"value\": \"layout\"}, {\"title\": \"Science of science\", \"variable\": \"tags_2\", \"value\": \"collaboration\"}, {\"title\": \"Clickstream Data Yields High-Resolution Maps of Science\", \"variable\": \"tags_2\", \"value\": \"visualization\"}, {\"title\": \"A Principal Component Analysis of 39 Scientific Impact Measures\", \"variable\": \"tags_2\", \"value\": \"analytics\"}, {\"title\": \"VILA: Improving Structured Content Extraction from Scientific PDFs Using Visual Layout Groups\", \"variable\": \"tags_2\", \"value\": \"understanding\"}, {\"title\": \"Viziometrics: Analyzing Visual Information in the Scientific Literature\", \"variable\": \"tags_2\", \"value\": \"understanding\"}, {\"title\": \"SciA11y: Converting Scientific Papers to Accessible HTML\", \"variable\": \"tags_2\", \"value\": \"layout\"}, {\"title\": \"An Uninteresting Tour Through Why Our Research Papers Aren't Accessible\", \"variable\": \"tags_2\", \"value\": \"layout\"}, {\"title\": \"Rich Screen Reader Experiences for Accessible Data Visualization\", \"variable\": \"tags_2\", \"value\": \"accessibility\"}, {\"title\": \"Facilitating Document Reading by Linking Text and Tables\", \"variable\": \"tags_2\", \"value\": \"understanding\"}, {\"title\": \"Towards Understanding How Readers Integrate Charts and Captions: A Case Study with Line Charts\", \"variable\": \"tags_2\", \"value\": \"understanding\"}, {\"title\": \"Toward tighter tables\", \"variable\": \"tags_2\", \"value\": \"layout\"}, {\"title\": \"The unacknowledged convergence of open source, open access, and open science\", \"variable\": \"tags_2\", \"value\": \"publishing/libraries\"}, {\"title\": \"The state of OA: a large-scale analysis of the prevalence and impact of Open Access articles\", \"variable\": \"tags_2\", \"value\": \"accessibility\"}, {\"title\": \"Capture &amp; Analysis of Active Reading Behaviors for Interactive Articles on the Web\", \"variable\": \"tags_3\", \"value\": \"layout\"}, {\"title\": \"Science of science\", \"variable\": \"tags_3\", \"value\": \"analytics\"}, {\"title\": \"Clickstream Data Yields High-Resolution Maps of Science\", \"variable\": \"tags_3\", \"value\": \"analytics\"}, {\"title\": \"Capture &amp; Analysis of Active Reading Behaviors for Interactive Articles on the Web\", \"variable\": \"tags_4\", \"value\": \"analytics\"}]}}, {\"mode\": \"vega-lite\"});\n",
       "</script>"
      ],
      "text/plain": [
       "alt.Chart(...)"
      ]
     },
     "execution_count": 130,
     "metadata": {},
     "output_type": "execute_result"
    }
   ],
   "source": [
    "# hold shift to select multiple\n",
    "pts = alt.selection(type=\"multi\", encodings=['x'])\n",
    "\n",
    "# single click if this is easier for creating the heatmap\n",
    "# pts = alt.selection(type=\"single\", encodings=['x'])\n",
    "\n",
    "\n",
    "alt.Chart(df_long.dropna()).mark_bar().encode(\n",
    "    x='value',\n",
    "    y='count()',\n",
    "    color=alt.condition(pts, alt.ColorValue(\"steelblue\"), alt.ColorValue(\"grey\"))\n",
    ").add_selection(pts)"
   ]
  },
  {
   "cell_type": "code",
   "execution_count": 131,
   "id": "ff814b32",
   "metadata": {},
   "outputs": [],
   "source": [
    "# try to do a stacked histogram for tools vs theory...\n",
    "df_long = pd.melt(df, id_vars=['title','modes'] , value_vars=['tags_1', 'tags_2', 'tags_3', 'tags_4'])\n",
    "\n",
    "# combine some tags - for now - ask LE about later\n",
    "df_long = df_long.replace('augmented_formatting','layout')\n",
    "df_long = df_long.replace('augmented_visualization','visualization')\n",
    "df_long = df_long.replace('augmented_lit_search','lit_search')"
   ]
  },
  {
   "cell_type": "code",
   "execution_count": 139,
   "id": "31030f08",
   "metadata": {},
   "outputs": [
    {
     "data": {
      "text/html": [
       "\n",
       "<div id=\"altair-viz-7aaf4a60b57140dcba4e0c67e767fa4d\"></div>\n",
       "<script type=\"text/javascript\">\n",
       "  var VEGA_DEBUG = (typeof VEGA_DEBUG == \"undefined\") ? {} : VEGA_DEBUG;\n",
       "  (function(spec, embedOpt){\n",
       "    let outputDiv = document.currentScript.previousElementSibling;\n",
       "    if (outputDiv.id !== \"altair-viz-7aaf4a60b57140dcba4e0c67e767fa4d\") {\n",
       "      outputDiv = document.getElementById(\"altair-viz-7aaf4a60b57140dcba4e0c67e767fa4d\");\n",
       "    }\n",
       "    const paths = {\n",
       "      \"vega\": \"https://cdn.jsdelivr.net/npm//vega@5?noext\",\n",
       "      \"vega-lib\": \"https://cdn.jsdelivr.net/npm//vega-lib?noext\",\n",
       "      \"vega-lite\": \"https://cdn.jsdelivr.net/npm//vega-lite@4.17.0?noext\",\n",
       "      \"vega-embed\": \"https://cdn.jsdelivr.net/npm//vega-embed@6?noext\",\n",
       "    };\n",
       "\n",
       "    function maybeLoadScript(lib, version) {\n",
       "      var key = `${lib.replace(\"-\", \"\")}_version`;\n",
       "      return (VEGA_DEBUG[key] == version) ?\n",
       "        Promise.resolve(paths[lib]) :\n",
       "        new Promise(function(resolve, reject) {\n",
       "          var s = document.createElement('script');\n",
       "          document.getElementsByTagName(\"head\")[0].appendChild(s);\n",
       "          s.async = true;\n",
       "          s.onload = () => {\n",
       "            VEGA_DEBUG[key] = version;\n",
       "            return resolve(paths[lib]);\n",
       "          };\n",
       "          s.onerror = () => reject(`Error loading script: ${paths[lib]}`);\n",
       "          s.src = paths[lib];\n",
       "        });\n",
       "    }\n",
       "\n",
       "    function showError(err) {\n",
       "      outputDiv.innerHTML = `<div class=\"error\" style=\"color:red;\">${err}</div>`;\n",
       "      throw err;\n",
       "    }\n",
       "\n",
       "    function displayChart(vegaEmbed) {\n",
       "      vegaEmbed(outputDiv, spec, embedOpt)\n",
       "        .catch(err => showError(`Javascript Error: ${err.message}<br>This usually means there's a typo in your chart specification. See the javascript console for the full traceback.`));\n",
       "    }\n",
       "\n",
       "    if(typeof define === \"function\" && define.amd) {\n",
       "      requirejs.config({paths});\n",
       "      require([\"vega-embed\"], displayChart, err => showError(`Error loading script: ${err.message}`));\n",
       "    } else {\n",
       "      maybeLoadScript(\"vega\", \"5\")\n",
       "        .then(() => maybeLoadScript(\"vega-lite\", \"4.17.0\"))\n",
       "        .then(() => maybeLoadScript(\"vega-embed\", \"6\"))\n",
       "        .catch(showError)\n",
       "        .then(() => displayChart(vegaEmbed));\n",
       "    }\n",
       "  })({\"config\": {\"view\": {\"continuousWidth\": 400, \"continuousHeight\": 300}}, \"data\": {\"name\": \"data-a2845ae683b75d8a2bbc9cb3cc4761c4\"}, \"mark\": \"bar\", \"encoding\": {\"color\": {\"condition\": {\"field\": \"modes\", \"type\": \"nominal\", \"selection\": \"selector013\"}, \"value\": \"gray\"}, \"x\": {\"field\": \"value\", \"type\": \"nominal\"}, \"y\": {\"aggregate\": \"count\", \"type\": \"quantitative\"}}, \"selection\": {\"selector013\": {\"type\": \"multi\", \"encodings\": [\"x\", \"color\"]}}, \"$schema\": \"https://vega.github.io/schema/vega-lite/v4.17.0.json\", \"datasets\": {\"data-a2845ae683b75d8a2bbc9cb3cc4761c4\": [{\"title\": \"A Computational Inflection for Scientific Discovery\", \"modes\": \"theory\", \"variable\": \"tags_1\", \"value\": \"lit_search\"}, {\"title\": \"Communicating with Interactive Articles\", \"modes\": \"theory\", \"variable\": \"tags_1\", \"value\": \"visualization\"}, {\"title\": \"Capture &amp; Analysis of Active Reading Behaviors for Interactive Articles on the Web\", \"modes\": \"tools\", \"variable\": \"tags_1\", \"value\": \"authoring\"}, {\"title\": \"Literate Programming\", \"modes\": \"tools\", \"variable\": \"tags_1\", \"value\": \"layout\"}, {\"title\": \"Exploration and Explanation in Computational Notebooks\", \"modes\": \"theory\", \"variable\": \"tags_1\", \"value\": \"authoring\"}, {\"title\": \"mage: Fluid Moves Between Code and Graphical Work in Computational Notebooks\", \"modes\": \"tools\", \"variable\": \"tags_1\", \"value\": \"authoring\"}, {\"title\": \"Reactive, reproducible, collaborative: computational notebooks evolve\", \"modes\": \"theory\", \"variable\": \"tags_1\", \"value\": \"collaboration\"}, {\"title\": \"Idyll\", \"modes\": \"tools\", \"variable\": \"tags_1\", \"value\": \"authoring\"}, {\"title\": \"Open collaborative writing with Manubot\", \"modes\": \"tools\", \"variable\": \"tags_1\", \"value\": \"authoring\"}, {\"title\": \"Jupyter Book\", \"modes\": \"tools\", \"variable\": \"tags_1\", \"value\": \"layout\"}, {\"title\": \"Augmenting Scientific Papers with Just-in-Time, Position-Sensitive Definitions of Terms and Symbols\", \"modes\": \"tools\", \"variable\": \"tags_1\", \"value\": \"layout\"}, {\"title\": \"Math Augmentation: How Authors Enhance the Readability of Formulas using Novel Visual Design Practices\", \"modes\": \"theory\", \"variable\": \"tags_1\", \"value\": \"layout\"}, {\"title\": \"CiteRead: Integrating Localized Citation Contexts into Scientific Paper Reading\", \"modes\": \"tools\", \"variable\": \"tags_1\", \"value\": \"layout\"}, {\"title\": \"SciSight: Combining faceted navigation and research group detection for COVID-19 exploratory scientific search\", \"modes\": \"tools\", \"variable\": \"tags_1\", \"value\": \"lit_search\"}, {\"title\": \"The cost structure of sensemaking\", \"modes\": \"theory\", \"variable\": \"tags_1\", \"value\": \"lit_search\"}, {\"title\": \"Apolo\", \"modes\": \"tools\", \"variable\": \"tags_1\", \"value\": \"lit_search\"}, {\"title\": \"Edit wear and read wear\", \"modes\": \"theory\", \"variable\": \"tags_1\", \"value\": \"lit_search\"}, {\"title\": \"Successful classroom deployment of a social document annotation system\", \"modes\": \"theory\", \"variable\": \"tags_1\", \"value\": \"layout\"}, {\"title\": \"Robust intra-document locations\", \"modes\": \"theory\", \"variable\": \"tags_1\", \"value\": \"collaboration\"}, {\"title\": \"Voyagers and voyeurs\", \"modes\": \"tools\", \"variable\": \"tags_1\", \"value\": \"visualization\"}, {\"title\": \"PAWLS: PDF Annotation With Labels and Structure\", \"modes\": \"tools\", \"variable\": \"tags_1\", \"value\": \"collaboration\"}, {\"title\": \"Some Results on the Function and Quality of Citations\", \"modes\": \"theory\", \"variable\": \"tags_1\", \"value\": \"analytics\"}, {\"title\": \"Identifying Important Citations Using Contextual Information from Full Text\", \"modes\": \"tools\", \"variable\": \"tags_1\", \"value\": \"lit_search\"}, {\"title\": \"Measuring academic influence: Not all citations are equal\", \"modes\": \"tools\", \"variable\": \"tags_1\", \"value\": \"lit_search\"}, {\"title\": \"Science of science\", \"modes\": \"theory\", \"variable\": \"tags_1\", \"value\": \"lit_search\"}, {\"title\": \"Clickstream Data Yields High-Resolution Maps of Science\", \"modes\": \"tools\", \"variable\": \"tags_1\", \"value\": \"lit_search\"}, {\"title\": \"Eigenfactor: Measuring the value and prestige of scholarly journals\", \"modes\": \"tools\", \"variable\": \"tags_1\", \"value\": \"lit_search\"}, {\"title\": \"A Principal Component Analysis of 39 Scientific Impact Measures\", \"modes\": \"tools\", \"variable\": \"tags_1\", \"value\": \"lit_search\"}, {\"title\": \"Extracting a Knowledge Base of Mechanisms from COVID-19 Papers\", \"modes\": \"tools\", \"variable\": \"tags_1\", \"value\": \"lit_search\"}, {\"title\": \"Unsupervised word embeddings capture latent knowledge from materials science literature\", \"modes\": \"tools\", \"variable\": \"tags_1\", \"value\": \"lit_search\"}, {\"title\": \"Literature Based Discovery: Models, methods, and trends\", \"modes\": \"theory\", \"variable\": \"tags_1\", \"value\": \"lit_search\"}, {\"title\": \"Recent advances in biomedical literature mining\", \"modes\": \"theory\", \"variable\": \"tags_1\", \"value\": \"lit_search\"}, {\"title\": \"Construction of the Literature Graph in Semantic Scholar\", \"modes\": \"tools\", \"variable\": \"tags_1\", \"value\": \"publishing/libraries\"}, {\"title\": \"TLDR: Extreme Summarization of Scientific Documents\", \"modes\": \"tools\", \"variable\": \"tags_1\", \"value\": \"understanding\"}, {\"title\": \"GROBID: Combining Automatic Bibliographic Data Recognition and Term Extraction for Scholarship Publications\", \"modes\": \"tools\", \"variable\": \"tags_1\", \"value\": \"understanding\"}, {\"title\": \"A Machine Reading System for Assembling Synthetic Paleontological Databases\", \"modes\": \"tools\", \"variable\": \"tags_1\", \"value\": \"understanding\"}, {\"title\": \"Incremental knowledge base construction using DeepDive\", \"modes\": \"tools\", \"variable\": \"tags_1\", \"value\": \"understanding\"}, {\"title\": \"ReVision\", \"modes\": \"tools\", \"variable\": \"tags_1\", \"value\": \"visualization\"}, {\"title\": \"VILA: Improving Structured Content Extraction from Scientific PDFs Using Visual Layout Groups\", \"modes\": \"tools\", \"variable\": \"tags_1\", \"value\": \"layout\"}, {\"title\": \"Reverse\\u2010Engineering Visualizations: Recovering Visual Encodings from Chart Images\", \"modes\": \"tools\", \"variable\": \"tags_1\", \"value\": \"visualization\"}, {\"title\": \"Viziometrics: Analyzing Visual Information in the Scientific Literature\", \"modes\": \"theory\", \"variable\": \"tags_1\", \"value\": \"visualization\"}, {\"title\": \"Improving the Accessibility of Scientific Documents: Current State, User Needs, and a System Solution to Enhance Scientific PDF Accessibility for Blind and Low Vision Users\", \"modes\": \"theory\", \"variable\": \"tags_1\", \"value\": \"accessibility\"}, {\"title\": \"SciA11y: Converting Scientific Papers to Accessible HTML\", \"modes\": \"tools\", \"variable\": \"tags_1\", \"value\": \"accessibility\"}, {\"title\": \"An Uninteresting Tour Through Why Our Research Papers Aren't Accessible\", \"modes\": \"theory\", \"variable\": \"tags_1\", \"value\": \"accessibility\"}, {\"title\": \"Accessible Visualization via Natural Language Descriptions: A Four-Level Model of Semantic Content\", \"modes\": \"tools\", \"variable\": \"tags_1\", \"value\": \"accessibility\"}, {\"title\": \"Rich Screen Reader Experiences for Accessible Data Visualization\", \"modes\": \"tools\", \"variable\": \"tags_1\", \"value\": \"layout\"}, {\"title\": \"Facilitating Document Reading by Linking Text and Tables\", \"modes\": \"tools\", \"variable\": \"tags_1\", \"value\": \"layout\"}, {\"title\": \"Extracting and Retargeting Color Mappings from Bitmap Images of Visualizations\", \"modes\": \"tools\", \"variable\": \"tags_1\", \"value\": \"visualization\"}, {\"title\": \"Graphical Overlays: Using Layered Elements to Aid Chart Reading\", \"modes\": \"tools\", \"variable\": \"tags_1\", \"value\": \"visualization\"}, {\"title\": \"Towards Understanding How Readers Integrate Charts and Captions: A Case Study with Line Charts\", \"modes\": \"theory\", \"variable\": \"tags_1\", \"value\": \"visualization\"}, {\"title\": \"Adaptive document layout\", \"modes\": \"theory\", \"variable\": \"tags_1\", \"value\": \"layout\"}, {\"title\": \"Fidyll: A Compiler for Cross-Format Data Stories &amp; Explorable Explanations\", \"modes\": \"tools\", \"variable\": \"tags_1\", \"value\": \"visualization\"}, {\"title\": \"Visual Abstracts to Disseminate Research on Social Media\", \"modes\": \"theory\", \"variable\": \"tags_1\", \"value\": \"visualization\"}, {\"title\": \"Review of automatic document formatting\", \"modes\": \"theory\", \"variable\": \"tags_1\", \"value\": \"layout\"}, {\"title\": \"Toward tighter tables\", \"modes\": \"tools\", \"variable\": \"tags_1\", \"value\": \"visualization\"}, {\"title\": \"The unacknowledged convergence of open source, open access, and open science\", \"modes\": \"theory\", \"variable\": \"tags_1\", \"value\": \"accessibility\"}, {\"title\": \"Preregistration Is Hard, And Worthwhile\", \"modes\": \"theory\", \"variable\": \"tags_1\", \"value\": \"publishing/libraries\"}, {\"title\": \"Is Preregistration Worthwhile?\", \"modes\": \"theory\", \"variable\": \"tags_1\", \"value\": \"publishing/libraries\"}, {\"title\": \"Open Science: One Term, Five Schools of Thought\", \"modes\": \"theory\", \"variable\": \"tags_1\", \"value\": \"publishing/libraries\"}, {\"title\": \"The state of OA: a large-scale analysis of the prevalence and impact of Open Access articles\", \"modes\": \"theory\", \"variable\": \"tags_1\", \"value\": \"publishing/libraries\"}, {\"title\": \"Going digital\", \"modes\": \"theory\", \"variable\": \"tags_1\", \"value\": \"publishing/libraries\"}, {\"title\": \"ArXiv at 20\", \"modes\": \"theory\", \"variable\": \"tags_1\", \"value\": \"publishing/libraries\"}, {\"title\": \"Distill Hiatus\", \"modes\": \"theory\", \"variable\": \"tags_1\", \"value\": \"publishing/libraries\"}, {\"title\": \"Communicating with Interactive Articles\", \"modes\": \"theory\", \"variable\": \"tags_2\", \"value\": \"layout\"}, {\"title\": \"Capture &amp; Analysis of Active Reading Behaviors for Interactive Articles on the Web\", \"modes\": \"tools\", \"variable\": \"tags_2\", \"value\": \"visualization\"}, {\"title\": \"Literate Programming\", \"modes\": \"tools\", \"variable\": \"tags_2\", \"value\": \"authoring\"}, {\"title\": \"Exploration and Explanation in Computational Notebooks\", \"modes\": \"theory\", \"variable\": \"tags_2\", \"value\": \"layout\"}, {\"title\": \"Reactive, reproducible, collaborative: computational notebooks evolve\", \"modes\": \"theory\", \"variable\": \"tags_2\", \"value\": \"layout\"}, {\"title\": \"Idyll\", \"modes\": \"tools\", \"variable\": \"tags_2\", \"value\": \"visualization\"}, {\"title\": \"Open collaborative writing with Manubot\", \"modes\": \"tools\", \"variable\": \"tags_2\", \"value\": \"collaboration\"}, {\"title\": \"Math Augmentation: How Authors Enhance the Readability of Formulas using Novel Visual Design Practices\", \"modes\": \"theory\", \"variable\": \"tags_2\", \"value\": \"visualization\"}, {\"title\": \"CiteRead: Integrating Localized Citation Contexts into Scientific Paper Reading\", \"modes\": \"tools\", \"variable\": \"tags_2\", \"value\": \"lit_search\"}, {\"title\": \"SciSight: Combining faceted navigation and research group detection for COVID-19 exploratory scientific search\", \"modes\": \"tools\", \"variable\": \"tags_2\", \"value\": \"visualization\"}, {\"title\": \"Apolo\", \"modes\": \"tools\", \"variable\": \"tags_2\", \"value\": \"visualization\"}, {\"title\": \"Edit wear and read wear\", \"modes\": \"theory\", \"variable\": \"tags_2\", \"value\": \"visualization\"}, {\"title\": \"Successful classroom deployment of a social document annotation system\", \"modes\": \"theory\", \"variable\": \"tags_2\", \"value\": \"collaboration\"}, {\"title\": \"Voyagers and voyeurs\", \"modes\": \"tools\", \"variable\": \"tags_2\", \"value\": \"collaboration\"}, {\"title\": \"PAWLS: PDF Annotation With Labels and Structure\", \"modes\": \"tools\", \"variable\": \"tags_2\", \"value\": \"layout\"}, {\"title\": \"Science of science\", \"modes\": \"theory\", \"variable\": \"tags_2\", \"value\": \"collaboration\"}, {\"title\": \"Clickstream Data Yields High-Resolution Maps of Science\", \"modes\": \"tools\", \"variable\": \"tags_2\", \"value\": \"visualization\"}, {\"title\": \"A Principal Component Analysis of 39 Scientific Impact Measures\", \"modes\": \"tools\", \"variable\": \"tags_2\", \"value\": \"analytics\"}, {\"title\": \"VILA: Improving Structured Content Extraction from Scientific PDFs Using Visual Layout Groups\", \"modes\": \"tools\", \"variable\": \"tags_2\", \"value\": \"understanding\"}, {\"title\": \"Viziometrics: Analyzing Visual Information in the Scientific Literature\", \"modes\": \"theory\", \"variable\": \"tags_2\", \"value\": \"understanding\"}, {\"title\": \"SciA11y: Converting Scientific Papers to Accessible HTML\", \"modes\": \"tools\", \"variable\": \"tags_2\", \"value\": \"layout\"}, {\"title\": \"An Uninteresting Tour Through Why Our Research Papers Aren't Accessible\", \"modes\": \"theory\", \"variable\": \"tags_2\", \"value\": \"layout\"}, {\"title\": \"Rich Screen Reader Experiences for Accessible Data Visualization\", \"modes\": \"tools\", \"variable\": \"tags_2\", \"value\": \"accessibility\"}, {\"title\": \"Facilitating Document Reading by Linking Text and Tables\", \"modes\": \"tools\", \"variable\": \"tags_2\", \"value\": \"understanding\"}, {\"title\": \"Towards Understanding How Readers Integrate Charts and Captions: A Case Study with Line Charts\", \"modes\": \"theory\", \"variable\": \"tags_2\", \"value\": \"understanding\"}, {\"title\": \"Toward tighter tables\", \"modes\": \"tools\", \"variable\": \"tags_2\", \"value\": \"layout\"}, {\"title\": \"The unacknowledged convergence of open source, open access, and open science\", \"modes\": \"theory\", \"variable\": \"tags_2\", \"value\": \"publishing/libraries\"}, {\"title\": \"The state of OA: a large-scale analysis of the prevalence and impact of Open Access articles\", \"modes\": \"theory\", \"variable\": \"tags_2\", \"value\": \"accessibility\"}, {\"title\": \"Capture &amp; Analysis of Active Reading Behaviors for Interactive Articles on the Web\", \"modes\": \"tools\", \"variable\": \"tags_3\", \"value\": \"layout\"}, {\"title\": \"Science of science\", \"modes\": \"theory\", \"variable\": \"tags_3\", \"value\": \"analytics\"}, {\"title\": \"Clickstream Data Yields High-Resolution Maps of Science\", \"modes\": \"tools\", \"variable\": \"tags_3\", \"value\": \"analytics\"}, {\"title\": \"Capture &amp; Analysis of Active Reading Behaviors for Interactive Articles on the Web\", \"modes\": \"tools\", \"variable\": \"tags_4\", \"value\": \"analytics\"}]}}, {\"mode\": \"vega-lite\"});\n",
       "</script>"
      ],
      "text/plain": [
       "alt.Chart(...)"
      ]
     },
     "execution_count": 139,
     "metadata": {},
     "output_type": "execute_result"
    }
   ],
   "source": [
    "source = df_long\n",
    "\n",
    "pts = alt.selection(type=\"multi\", encodings=['x','color'])\n",
    "\n",
    "alt.Chart(source.dropna()).mark_bar().encode(\n",
    "    x='value',\n",
    "    y='count()',\n",
    "    color=alt.condition(pts, 'modes', alt.value('gray'))\n",
    ").add_selection(pts)"
   ]
  },
  {
   "cell_type": "code",
   "execution_count": 146,
   "id": "a42cf236",
   "metadata": {},
   "outputs": [],
   "source": [
    "df_long.to_pickle('papers_plus_tags_long_df.pkl')"
   ]
  },
  {
   "cell_type": "code",
   "execution_count": 147,
   "id": "7f4f8e98",
   "metadata": {},
   "outputs": [
    {
     "data": {
      "text/html": [
       "<div>\n",
       "<style scoped>\n",
       "    .dataframe tbody tr th:only-of-type {\n",
       "        vertical-align: middle;\n",
       "    }\n",
       "\n",
       "    .dataframe tbody tr th {\n",
       "        vertical-align: top;\n",
       "    }\n",
       "\n",
       "    .dataframe thead th {\n",
       "        text-align: right;\n",
       "    }\n",
       "</style>\n",
       "<table border=\"1\" class=\"dataframe\">\n",
       "  <thead>\n",
       "    <tr style=\"text-align: right;\">\n",
       "      <th></th>\n",
       "      <th>class_paper</th>\n",
       "      <th>s2_paperId</th>\n",
       "      <th>ref_title</th>\n",
       "      <th>citationCount</th>\n",
       "      <th>influentialCitationCount</th>\n",
       "      <th>year</th>\n",
       "      <th>title</th>\n",
       "      <th>modes</th>\n",
       "      <th>variable</th>\n",
       "      <th>value</th>\n",
       "    </tr>\n",
       "  </thead>\n",
       "  <tbody>\n",
       "    <tr>\n",
       "      <th>0</th>\n",
       "      <td>A Computational Inflection for Scientific Disc...</td>\n",
       "      <td>449e58a29a3971d4d54d9bb28df3b31c60d20483</td>\n",
       "      <td>ACCoRD: A Multi-Document Approach to Generatin...</td>\n",
       "      <td>2</td>\n",
       "      <td>0</td>\n",
       "      <td>2022.0</td>\n",
       "      <td>A Computational Inflection for Scientific Disc...</td>\n",
       "      <td>theory</td>\n",
       "      <td>tags_1</td>\n",
       "      <td>lit_search</td>\n",
       "    </tr>\n",
       "    <tr>\n",
       "      <th>1</th>\n",
       "      <td>A Computational Inflection for Scientific Disc...</td>\n",
       "      <td>449e58a29a3971d4d54d9bb28df3b31c60d20483</td>\n",
       "      <td>ACCoRD: A Multi-Document Approach to Generatin...</td>\n",
       "      <td>2</td>\n",
       "      <td>0</td>\n",
       "      <td>2022.0</td>\n",
       "      <td>A Computational Inflection for Scientific Disc...</td>\n",
       "      <td>theory</td>\n",
       "      <td>tags_2</td>\n",
       "      <td>NaN</td>\n",
       "    </tr>\n",
       "    <tr>\n",
       "      <th>2</th>\n",
       "      <td>A Computational Inflection for Scientific Disc...</td>\n",
       "      <td>449e58a29a3971d4d54d9bb28df3b31c60d20483</td>\n",
       "      <td>ACCoRD: A Multi-Document Approach to Generatin...</td>\n",
       "      <td>2</td>\n",
       "      <td>0</td>\n",
       "      <td>2022.0</td>\n",
       "      <td>A Computational Inflection for Scientific Disc...</td>\n",
       "      <td>theory</td>\n",
       "      <td>tags_3</td>\n",
       "      <td>NaN</td>\n",
       "    </tr>\n",
       "    <tr>\n",
       "      <th>3</th>\n",
       "      <td>A Computational Inflection for Scientific Disc...</td>\n",
       "      <td>449e58a29a3971d4d54d9bb28df3b31c60d20483</td>\n",
       "      <td>ACCoRD: A Multi-Document Approach to Generatin...</td>\n",
       "      <td>2</td>\n",
       "      <td>0</td>\n",
       "      <td>2022.0</td>\n",
       "      <td>A Computational Inflection for Scientific Disc...</td>\n",
       "      <td>theory</td>\n",
       "      <td>tags_4</td>\n",
       "      <td>NaN</td>\n",
       "    </tr>\n",
       "    <tr>\n",
       "      <th>4</th>\n",
       "      <td>A Computational Inflection for Scientific Disc...</td>\n",
       "      <td>1b72a2842c535502f639e6082562723717582046</td>\n",
       "      <td>A very preliminary analysis of DALL-E 2</td>\n",
       "      <td>10</td>\n",
       "      <td>0</td>\n",
       "      <td>2022.0</td>\n",
       "      <td>A Computational Inflection for Scientific Disc...</td>\n",
       "      <td>theory</td>\n",
       "      <td>tags_1</td>\n",
       "      <td>lit_search</td>\n",
       "    </tr>\n",
       "  </tbody>\n",
       "</table>\n",
       "</div>"
      ],
      "text/plain": [
       "                                         class_paper  \\\n",
       "0  A Computational Inflection for Scientific Disc...   \n",
       "1  A Computational Inflection for Scientific Disc...   \n",
       "2  A Computational Inflection for Scientific Disc...   \n",
       "3  A Computational Inflection for Scientific Disc...   \n",
       "4  A Computational Inflection for Scientific Disc...   \n",
       "\n",
       "                                 s2_paperId  \\\n",
       "0  449e58a29a3971d4d54d9bb28df3b31c60d20483   \n",
       "1  449e58a29a3971d4d54d9bb28df3b31c60d20483   \n",
       "2  449e58a29a3971d4d54d9bb28df3b31c60d20483   \n",
       "3  449e58a29a3971d4d54d9bb28df3b31c60d20483   \n",
       "4  1b72a2842c535502f639e6082562723717582046   \n",
       "\n",
       "                                           ref_title  citationCount  \\\n",
       "0  ACCoRD: A Multi-Document Approach to Generatin...              2   \n",
       "1  ACCoRD: A Multi-Document Approach to Generatin...              2   \n",
       "2  ACCoRD: A Multi-Document Approach to Generatin...              2   \n",
       "3  ACCoRD: A Multi-Document Approach to Generatin...              2   \n",
       "4            A very preliminary analysis of DALL-E 2             10   \n",
       "\n",
       "   influentialCitationCount    year  \\\n",
       "0                         0  2022.0   \n",
       "1                         0  2022.0   \n",
       "2                         0  2022.0   \n",
       "3                         0  2022.0   \n",
       "4                         0  2022.0   \n",
       "\n",
       "                                               title   modes variable  \\\n",
       "0  A Computational Inflection for Scientific Disc...  theory   tags_1   \n",
       "1  A Computational Inflection for Scientific Disc...  theory   tags_2   \n",
       "2  A Computational Inflection for Scientific Disc...  theory   tags_3   \n",
       "3  A Computational Inflection for Scientific Disc...  theory   tags_4   \n",
       "4  A Computational Inflection for Scientific Disc...  theory   tags_1   \n",
       "\n",
       "        value  \n",
       "0  lit_search  \n",
       "1         NaN  \n",
       "2         NaN  \n",
       "3         NaN  \n",
       "4  lit_search  "
      ]
     },
     "execution_count": 147,
     "metadata": {},
     "output_type": "execute_result"
    }
   ],
   "source": [
    "# new df\n",
    "df2 = pd.read_pickle('reference_df_with_tags.pkl')\n",
    "df2.head()"
   ]
  },
  {
   "cell_type": "code",
   "execution_count": 151,
   "id": "71c9d295",
   "metadata": {},
   "outputs": [
    {
     "data": {
      "text/html": [
       "<div>\n",
       "<style scoped>\n",
       "    .dataframe tbody tr th:only-of-type {\n",
       "        vertical-align: middle;\n",
       "    }\n",
       "\n",
       "    .dataframe tbody tr th {\n",
       "        vertical-align: top;\n",
       "    }\n",
       "\n",
       "    .dataframe thead th {\n",
       "        text-align: right;\n",
       "    }\n",
       "</style>\n",
       "<table border=\"1\" class=\"dataframe\">\n",
       "  <thead>\n",
       "    <tr style=\"text-align: right;\">\n",
       "      <th></th>\n",
       "      <th>class_paper</th>\n",
       "      <th>s2_paperId</th>\n",
       "      <th>ref_title</th>\n",
       "      <th>citationCount</th>\n",
       "      <th>influentialCitationCount</th>\n",
       "      <th>year</th>\n",
       "    </tr>\n",
       "  </thead>\n",
       "  <tbody>\n",
       "    <tr>\n",
       "      <th>0</th>\n",
       "      <td>A Computational Inflection for Scientific Disc...</td>\n",
       "      <td>449e58a29a3971d4d54d9bb28df3b31c60d20483</td>\n",
       "      <td>ACCoRD: A Multi-Document Approach to Generatin...</td>\n",
       "      <td>2</td>\n",
       "      <td>0</td>\n",
       "      <td>2022.0</td>\n",
       "    </tr>\n",
       "    <tr>\n",
       "      <th>4</th>\n",
       "      <td>A Computational Inflection for Scientific Disc...</td>\n",
       "      <td>1b72a2842c535502f639e6082562723717582046</td>\n",
       "      <td>A very preliminary analysis of DALL-E 2</td>\n",
       "      <td>10</td>\n",
       "      <td>0</td>\n",
       "      <td>2022.0</td>\n",
       "    </tr>\n",
       "    <tr>\n",
       "      <th>8</th>\n",
       "      <td>A Computational Inflection for Scientific Disc...</td>\n",
       "      <td>c57293882b2561e1ba03017902df9fc2f289dea2</td>\n",
       "      <td>Hierarchical Text-Conditional Image Generation...</td>\n",
       "      <td>267</td>\n",
       "      <td>39</td>\n",
       "      <td>2022.0</td>\n",
       "    </tr>\n",
       "    <tr>\n",
       "      <th>12</th>\n",
       "      <td>A Computational Inflection for Scientific Disc...</td>\n",
       "      <td>a83cdcc0135c58fddf89fc72f1b92b7a9d1e170f</td>\n",
       "      <td>LinkBERT: Pretraining Language Models with Doc...</td>\n",
       "      <td>17</td>\n",
       "      <td>8</td>\n",
       "      <td>2022.0</td>\n",
       "    </tr>\n",
       "    <tr>\n",
       "      <th>16</th>\n",
       "      <td>A Computational Inflection for Scientific Disc...</td>\n",
       "      <td>af38697d8acf289ce8b0ebe2bcc638aff0eb1a1d</td>\n",
       "      <td>The Inefficiency of Language Models in Scholar...</td>\n",
       "      <td>1</td>\n",
       "      <td>0</td>\n",
       "      <td>2022.0</td>\n",
       "    </tr>\n",
       "    <tr>\n",
       "      <th>...</th>\n",
       "      <td>...</td>\n",
       "      <td>...</td>\n",
       "      <td>...</td>\n",
       "      <td>...</td>\n",
       "      <td>...</td>\n",
       "      <td>...</td>\n",
       "    </tr>\n",
       "    <tr>\n",
       "      <th>12864</th>\n",
       "      <td>Going digital</td>\n",
       "      <td></td>\n",
       "      <td>A multi-tiered approach to hypertext integrati...</td>\n",
       "      <td>0</td>\n",
       "      <td>0</td>\n",
       "      <td>0.0</td>\n",
       "    </tr>\n",
       "    <tr>\n",
       "      <th>12868</th>\n",
       "      <td>Going digital</td>\n",
       "      <td></td>\n",
       "      <td>Control Through Communication</td>\n",
       "      <td>0</td>\n",
       "      <td>0</td>\n",
       "      <td>0.0</td>\n",
       "    </tr>\n",
       "    <tr>\n",
       "      <th>12872</th>\n",
       "      <td>Going digital</td>\n",
       "      <td>8e9dd0390cef14c48899f98176b1b8cd3ea3020c</td>\n",
       "      <td>Work-oriented design of computer artifacts</td>\n",
       "      <td>1345</td>\n",
       "      <td>87</td>\n",
       "      <td>1989.0</td>\n",
       "    </tr>\n",
       "    <tr>\n",
       "      <th>12876</th>\n",
       "      <td>Going digital</td>\n",
       "      <td></td>\n",
       "      <td>©ACM00020782</td>\n",
       "      <td>0</td>\n",
       "      <td>0</td>\n",
       "      <td>0.0</td>\n",
       "    </tr>\n",
       "    <tr>\n",
       "      <th>12880</th>\n",
       "      <td>Going digital</td>\n",
       "      <td></td>\n",
       "      <td>Personal communication , November 1994</td>\n",
       "      <td>0</td>\n",
       "      <td>0</td>\n",
       "      <td>0.0</td>\n",
       "    </tr>\n",
       "  </tbody>\n",
       "</table>\n",
       "<p>3216 rows × 6 columns</p>\n",
       "</div>"
      ],
      "text/plain": [
       "                                             class_paper  \\\n",
       "0      A Computational Inflection for Scientific Disc...   \n",
       "4      A Computational Inflection for Scientific Disc...   \n",
       "8      A Computational Inflection for Scientific Disc...   \n",
       "12     A Computational Inflection for Scientific Disc...   \n",
       "16     A Computational Inflection for Scientific Disc...   \n",
       "...                                                  ...   \n",
       "12864                                      Going digital   \n",
       "12868                                      Going digital   \n",
       "12872                                      Going digital   \n",
       "12876                                      Going digital   \n",
       "12880                                      Going digital   \n",
       "\n",
       "                                     s2_paperId  \\\n",
       "0      449e58a29a3971d4d54d9bb28df3b31c60d20483   \n",
       "4      1b72a2842c535502f639e6082562723717582046   \n",
       "8      c57293882b2561e1ba03017902df9fc2f289dea2   \n",
       "12     a83cdcc0135c58fddf89fc72f1b92b7a9d1e170f   \n",
       "16     af38697d8acf289ce8b0ebe2bcc638aff0eb1a1d   \n",
       "...                                         ...   \n",
       "12864                                             \n",
       "12868                                             \n",
       "12872  8e9dd0390cef14c48899f98176b1b8cd3ea3020c   \n",
       "12876                                             \n",
       "12880                                             \n",
       "\n",
       "                                               ref_title  citationCount  \\\n",
       "0      ACCoRD: A Multi-Document Approach to Generatin...              2   \n",
       "4                A very preliminary analysis of DALL-E 2             10   \n",
       "8      Hierarchical Text-Conditional Image Generation...            267   \n",
       "12     LinkBERT: Pretraining Language Models with Doc...             17   \n",
       "16     The Inefficiency of Language Models in Scholar...              1   \n",
       "...                                                  ...            ...   \n",
       "12864  A multi-tiered approach to hypertext integrati...              0   \n",
       "12868                      Control Through Communication              0   \n",
       "12872         Work-oriented design of computer artifacts           1345   \n",
       "12876                                       ©ACM00020782              0   \n",
       "12880             Personal communication , November 1994              0   \n",
       "\n",
       "       influentialCitationCount    year  \n",
       "0                             0  2022.0  \n",
       "4                             0  2022.0  \n",
       "8                            39  2022.0  \n",
       "12                            8  2022.0  \n",
       "16                            0  2022.0  \n",
       "...                         ...     ...  \n",
       "12864                         0     0.0  \n",
       "12868                         0     0.0  \n",
       "12872                        87  1989.0  \n",
       "12876                         0     0.0  \n",
       "12880                         0     0.0  \n",
       "\n",
       "[3216 rows x 6 columns]"
      ]
     },
     "execution_count": 151,
     "metadata": {},
     "output_type": "execute_result"
    }
   ],
   "source": [
    "source_bar"
   ]
  },
  {
   "cell_type": "code",
   "execution_count": 152,
   "id": "c0e6c8bb",
   "metadata": {},
   "outputs": [
    {
     "data": {
      "text/html": [
       "\n",
       "<div id=\"altair-viz-d5607a9cc0254881b6fea18f36330a57\"></div>\n",
       "<script type=\"text/javascript\">\n",
       "  var VEGA_DEBUG = (typeof VEGA_DEBUG == \"undefined\") ? {} : VEGA_DEBUG;\n",
       "  (function(spec, embedOpt){\n",
       "    let outputDiv = document.currentScript.previousElementSibling;\n",
       "    if (outputDiv.id !== \"altair-viz-d5607a9cc0254881b6fea18f36330a57\") {\n",
       "      outputDiv = document.getElementById(\"altair-viz-d5607a9cc0254881b6fea18f36330a57\");\n",
       "    }\n",
       "    const paths = {\n",
       "      \"vega\": \"https://cdn.jsdelivr.net/npm//vega@5?noext\",\n",
       "      \"vega-lib\": \"https://cdn.jsdelivr.net/npm//vega-lib?noext\",\n",
       "      \"vega-lite\": \"https://cdn.jsdelivr.net/npm//vega-lite@4.17.0?noext\",\n",
       "      \"vega-embed\": \"https://cdn.jsdelivr.net/npm//vega-embed@6?noext\",\n",
       "    };\n",
       "\n",
       "    function maybeLoadScript(lib, version) {\n",
       "      var key = `${lib.replace(\"-\", \"\")}_version`;\n",
       "      return (VEGA_DEBUG[key] == version) ?\n",
       "        Promise.resolve(paths[lib]) :\n",
       "        new Promise(function(resolve, reject) {\n",
       "          var s = document.createElement('script');\n",
       "          document.getElementsByTagName(\"head\")[0].appendChild(s);\n",
       "          s.async = true;\n",
       "          s.onload = () => {\n",
       "            VEGA_DEBUG[key] = version;\n",
       "            return resolve(paths[lib]);\n",
       "          };\n",
       "          s.onerror = () => reject(`Error loading script: ${paths[lib]}`);\n",
       "          s.src = paths[lib];\n",
       "        });\n",
       "    }\n",
       "\n",
       "    function showError(err) {\n",
       "      outputDiv.innerHTML = `<div class=\"error\" style=\"color:red;\">${err}</div>`;\n",
       "      throw err;\n",
       "    }\n",
       "\n",
       "    function displayChart(vegaEmbed) {\n",
       "      vegaEmbed(outputDiv, spec, embedOpt)\n",
       "        .catch(err => showError(`Javascript Error: ${err.message}<br>This usually means there's a typo in your chart specification. See the javascript console for the full traceback.`));\n",
       "    }\n",
       "\n",
       "    if(typeof define === \"function\" && define.amd) {\n",
       "      requirejs.config({paths});\n",
       "      require([\"vega-embed\"], displayChart, err => showError(`Error loading script: ${err.message}`));\n",
       "    } else {\n",
       "      maybeLoadScript(\"vega\", \"5\")\n",
       "        .then(() => maybeLoadScript(\"vega-lite\", \"4.17.0\"))\n",
       "        .then(() => maybeLoadScript(\"vega-embed\", \"6\"))\n",
       "        .catch(showError)\n",
       "        .then(() => displayChart(vegaEmbed));\n",
       "    }\n",
       "  })({\"config\": {\"view\": {\"continuousWidth\": 400, \"continuousHeight\": 300}}, \"data\": {\"name\": \"data-eb09d21573d1b4ef880f544b84db28e4\"}, \"mark\": \"bar\", \"encoding\": {\"color\": {\"condition\": {\"field\": \"modes\", \"type\": \"nominal\", \"selection\": \"selector017\"}, \"value\": \"gray\"}, \"x\": {\"field\": \"value\", \"type\": \"nominal\"}, \"y\": {\"aggregate\": \"count\", \"type\": \"quantitative\"}}, \"selection\": {\"selector017\": {\"type\": \"multi\", \"encodings\": [\"x\", \"color\"]}}, \"$schema\": \"https://vega.github.io/schema/vega-lite/v4.17.0.json\", \"datasets\": {\"data-eb09d21573d1b4ef880f544b84db28e4\": [{\"title\": \"A Computational Inflection for Scientific Discovery\", \"modes\": \"theory\", \"variable\": \"tags_1\", \"value\": \"lit_search\"}, {\"title\": \"Communicating with Interactive Articles\", \"modes\": \"theory\", \"variable\": \"tags_1\", \"value\": \"visualization\"}, {\"title\": \"Communicating with Interactive Articles\", \"modes\": \"theory\", \"variable\": \"tags_2\", \"value\": \"layout\"}, {\"title\": \"Capture &amp; Analysis of Active Reading Behaviors for Interactive Articles on the Web\", \"modes\": \"tools\", \"variable\": \"tags_1\", \"value\": \"authoring\"}, {\"title\": \"Capture &amp; Analysis of Active Reading Behaviors for Interactive Articles on the Web\", \"modes\": \"tools\", \"variable\": \"tags_2\", \"value\": \"visualization\"}, {\"title\": \"Capture &amp; Analysis of Active Reading Behaviors for Interactive Articles on the Web\", \"modes\": \"tools\", \"variable\": \"tags_3\", \"value\": \"layout\"}, {\"title\": \"Capture &amp; Analysis of Active Reading Behaviors for Interactive Articles on the Web\", \"modes\": \"tools\", \"variable\": \"tags_4\", \"value\": \"analytics\"}, {\"title\": \"Literate Programming\", \"modes\": \"tools\", \"variable\": \"tags_1\", \"value\": \"layout\"}, {\"title\": \"Literate Programming\", \"modes\": \"tools\", \"variable\": \"tags_2\", \"value\": \"authoring\"}, {\"title\": \"Exploration and Explanation in Computational Notebooks\", \"modes\": \"theory\", \"variable\": \"tags_1\", \"value\": \"authoring\"}, {\"title\": \"Exploration and Explanation in Computational Notebooks\", \"modes\": \"theory\", \"variable\": \"tags_2\", \"value\": \"layout\"}, {\"title\": \"mage: Fluid Moves Between Code and Graphical Work in Computational Notebooks\", \"modes\": \"tools\", \"variable\": \"tags_1\", \"value\": \"authoring\"}, {\"title\": \"Idyll\", \"modes\": \"tools\", \"variable\": \"tags_1\", \"value\": \"authoring\"}, {\"title\": \"Idyll\", \"modes\": \"tools\", \"variable\": \"tags_2\", \"value\": \"visualization\"}, {\"title\": \"Open collaborative writing with Manubot\", \"modes\": \"tools\", \"variable\": \"tags_1\", \"value\": \"authoring\"}, {\"title\": \"Open collaborative writing with Manubot\", \"modes\": \"tools\", \"variable\": \"tags_2\", \"value\": \"collaboration\"}, {\"title\": \"Augmenting Scientific Papers with Just-in-Time, Position-Sensitive Definitions of Terms and Symbols\", \"modes\": \"tools\", \"variable\": \"tags_1\", \"value\": \"layout\"}, {\"title\": \"Math Augmentation: How Authors Enhance the Readability of Formulas using Novel Visual Design Practices\", \"modes\": \"theory\", \"variable\": \"tags_1\", \"value\": \"layout\"}, {\"title\": \"Math Augmentation: How Authors Enhance the Readability of Formulas using Novel Visual Design Practices\", \"modes\": \"theory\", \"variable\": \"tags_2\", \"value\": \"visualization\"}, {\"title\": \"CiteRead: Integrating Localized Citation Contexts into Scientific Paper Reading\", \"modes\": \"tools\", \"variable\": \"tags_1\", \"value\": \"layout\"}, {\"title\": \"CiteRead: Integrating Localized Citation Contexts into Scientific Paper Reading\", \"modes\": \"tools\", \"variable\": \"tags_2\", \"value\": \"lit_search\"}, {\"title\": \"SciSight: Combining faceted navigation and research group detection for COVID-19 exploratory scientific search\", \"modes\": \"tools\", \"variable\": \"tags_1\", \"value\": \"lit_search\"}, {\"title\": \"SciSight: Combining faceted navigation and research group detection for COVID-19 exploratory scientific search\", \"modes\": \"tools\", \"variable\": \"tags_2\", \"value\": \"visualization\"}, {\"title\": \"The cost structure of sensemaking\", \"modes\": \"theory\", \"variable\": \"tags_1\", \"value\": \"lit_search\"}, {\"title\": \"Apolo\", \"modes\": \"tools\", \"variable\": \"tags_1\", \"value\": \"lit_search\"}, {\"title\": \"Apolo\", \"modes\": \"tools\", \"variable\": \"tags_2\", \"value\": \"visualization\"}, {\"title\": \"Edit wear and read wear\", \"modes\": \"theory\", \"variable\": \"tags_1\", \"value\": \"lit_search\"}, {\"title\": \"Edit wear and read wear\", \"modes\": \"theory\", \"variable\": \"tags_2\", \"value\": \"visualization\"}, {\"title\": \"Successful classroom deployment of a social document annotation system\", \"modes\": \"theory\", \"variable\": \"tags_1\", \"value\": \"layout\"}, {\"title\": \"Successful classroom deployment of a social document annotation system\", \"modes\": \"theory\", \"variable\": \"tags_2\", \"value\": \"collaboration\"}, {\"title\": \"Robust intra-document locations\", \"modes\": \"theory\", \"variable\": \"tags_1\", \"value\": \"collaboration\"}, {\"title\": \"Voyagers and voyeurs\", \"modes\": \"tools\", \"variable\": \"tags_1\", \"value\": \"visualization\"}, {\"title\": \"Voyagers and voyeurs\", \"modes\": \"tools\", \"variable\": \"tags_2\", \"value\": \"collaboration\"}, {\"title\": \"PAWLS: PDF Annotation With Labels and Structure\", \"modes\": \"tools\", \"variable\": \"tags_1\", \"value\": \"collaboration\"}, {\"title\": \"PAWLS: PDF Annotation With Labels and Structure\", \"modes\": \"tools\", \"variable\": \"tags_2\", \"value\": \"layout\"}, {\"title\": \"Identifying Important Citations Using Contextual Information from Full Text\", \"modes\": \"tools\", \"variable\": \"tags_1\", \"value\": \"lit_search\"}, {\"title\": \"Measuring academic influence: Not all citations are equal\", \"modes\": \"tools\", \"variable\": \"tags_1\", \"value\": \"lit_search\"}, {\"title\": \"Science of science\", \"modes\": \"theory\", \"variable\": \"tags_1\", \"value\": \"lit_search\"}, {\"title\": \"Science of science\", \"modes\": \"theory\", \"variable\": \"tags_2\", \"value\": \"collaboration\"}, {\"title\": \"Science of science\", \"modes\": \"theory\", \"variable\": \"tags_3\", \"value\": \"analytics\"}, {\"title\": \"Clickstream Data Yields High-Resolution Maps of Science\", \"modes\": \"tools\", \"variable\": \"tags_1\", \"value\": \"lit_search\"}, {\"title\": \"Clickstream Data Yields High-Resolution Maps of Science\", \"modes\": \"tools\", \"variable\": \"tags_2\", \"value\": \"visualization\"}, {\"title\": \"Clickstream Data Yields High-Resolution Maps of Science\", \"modes\": \"tools\", \"variable\": \"tags_3\", \"value\": \"analytics\"}, {\"title\": \"Eigenfactor: Measuring the value and prestige of scholarly journals\", \"modes\": \"tools\", \"variable\": \"tags_1\", \"value\": \"lit_search\"}, {\"title\": \"A Principal Component Analysis of 39 Scientific Impact Measures\", \"modes\": \"tools\", \"variable\": \"tags_1\", \"value\": \"lit_search\"}, {\"title\": \"A Principal Component Analysis of 39 Scientific Impact Measures\", \"modes\": \"tools\", \"variable\": \"tags_2\", \"value\": \"analytics\"}, {\"title\": \"Extracting a Knowledge Base of Mechanisms from COVID-19 Papers\", \"modes\": \"tools\", \"variable\": \"tags_1\", \"value\": \"lit_search\"}, {\"title\": \"Unsupervised word embeddings capture latent knowledge from materials science literature\", \"modes\": \"tools\", \"variable\": \"tags_1\", \"value\": \"lit_search\"}, {\"title\": \"Literature Based Discovery: Models, methods, and trends\", \"modes\": \"theory\", \"variable\": \"tags_1\", \"value\": \"lit_search\"}, {\"title\": \"Recent advances in biomedical literature mining\", \"modes\": \"theory\", \"variable\": \"tags_1\", \"value\": \"lit_search\"}, {\"title\": \"Construction of the Literature Graph in Semantic Scholar\", \"modes\": \"tools\", \"variable\": \"tags_1\", \"value\": \"publishing/libraries\"}, {\"title\": \"TLDR: Extreme Summarization of Scientific Documents\", \"modes\": \"tools\", \"variable\": \"tags_1\", \"value\": \"understanding\"}, {\"title\": \"GROBID: Combining Automatic Bibliographic Data Recognition and Term Extraction for Scholarship Publications\", \"modes\": \"tools\", \"variable\": \"tags_1\", \"value\": \"understanding\"}, {\"title\": \"A Machine Reading System for Assembling Synthetic Paleontological Databases\", \"modes\": \"tools\", \"variable\": \"tags_1\", \"value\": \"understanding\"}, {\"title\": \"Incremental knowledge base construction using DeepDive\", \"modes\": \"tools\", \"variable\": \"tags_1\", \"value\": \"understanding\"}, {\"title\": \"ReVision\", \"modes\": \"tools\", \"variable\": \"tags_1\", \"value\": \"visualization\"}, {\"title\": \"VILA: Improving Structured Content Extraction from Scientific PDFs Using Visual Layout Groups\", \"modes\": \"tools\", \"variable\": \"tags_1\", \"value\": \"layout\"}, {\"title\": \"VILA: Improving Structured Content Extraction from Scientific PDFs Using Visual Layout Groups\", \"modes\": \"tools\", \"variable\": \"tags_2\", \"value\": \"understanding\"}, {\"title\": \"Reverse\\u2010Engineering Visualizations: Recovering Visual Encodings from Chart Images\", \"modes\": \"tools\", \"variable\": \"tags_1\", \"value\": \"visualization\"}, {\"title\": \"Viziometrics: Analyzing Visual Information in the Scientific Literature\", \"modes\": \"theory\", \"variable\": \"tags_1\", \"value\": \"visualization\"}, {\"title\": \"Viziometrics: Analyzing Visual Information in the Scientific Literature\", \"modes\": \"theory\", \"variable\": \"tags_2\", \"value\": \"understanding\"}, {\"title\": \"Improving the Accessibility of Scientific Documents: Current State, User Needs, and a System Solution to Enhance Scientific PDF Accessibility for Blind and Low Vision Users\", \"modes\": \"theory\", \"variable\": \"tags_1\", \"value\": \"accessibility\"}, {\"title\": \"SciA11y: Converting Scientific Papers to Accessible HTML\", \"modes\": \"tools\", \"variable\": \"tags_1\", \"value\": \"accessibility\"}, {\"title\": \"SciA11y: Converting Scientific Papers to Accessible HTML\", \"modes\": \"tools\", \"variable\": \"tags_2\", \"value\": \"layout\"}, {\"title\": \"An Uninteresting Tour Through Why Our Research Papers Aren't Accessible\", \"modes\": \"theory\", \"variable\": \"tags_1\", \"value\": \"accessibility\"}, {\"title\": \"An Uninteresting Tour Through Why Our Research Papers Aren't Accessible\", \"modes\": \"theory\", \"variable\": \"tags_2\", \"value\": \"layout\"}, {\"title\": \"Accessible Visualization via Natural Language Descriptions: A Four-Level Model of Semantic Content\", \"modes\": \"tools\", \"variable\": \"tags_1\", \"value\": \"accessibility\"}, {\"title\": \"Rich Screen Reader Experiences for Accessible Data Visualization\", \"modes\": \"tools\", \"variable\": \"tags_1\", \"value\": \"layout\"}, {\"title\": \"Rich Screen Reader Experiences for Accessible Data Visualization\", \"modes\": \"tools\", \"variable\": \"tags_2\", \"value\": \"accessibility\"}, {\"title\": \"Facilitating Document Reading by Linking Text and Tables\", \"modes\": \"tools\", \"variable\": \"tags_1\", \"value\": \"layout\"}, {\"title\": \"Facilitating Document Reading by Linking Text and Tables\", \"modes\": \"tools\", \"variable\": \"tags_2\", \"value\": \"understanding\"}, {\"title\": \"Extracting and Retargeting Color Mappings from Bitmap Images of Visualizations\", \"modes\": \"tools\", \"variable\": \"tags_1\", \"value\": \"visualization\"}, {\"title\": \"Graphical Overlays: Using Layered Elements to Aid Chart Reading\", \"modes\": \"tools\", \"variable\": \"tags_1\", \"value\": \"visualization\"}, {\"title\": \"Towards Understanding How Readers Integrate Charts and Captions: A Case Study with Line Charts\", \"modes\": \"theory\", \"variable\": \"tags_1\", \"value\": \"visualization\"}, {\"title\": \"Towards Understanding How Readers Integrate Charts and Captions: A Case Study with Line Charts\", \"modes\": \"theory\", \"variable\": \"tags_2\", \"value\": \"understanding\"}, {\"title\": \"Adaptive document layout\", \"modes\": \"theory\", \"variable\": \"tags_1\", \"value\": \"layout\"}, {\"title\": \"Fidyll: A Compiler for Cross-Format Data Stories &amp; Explorable Explanations\", \"modes\": \"tools\", \"variable\": \"tags_1\", \"value\": \"visualization\"}, {\"title\": \"Visual Abstracts to Disseminate Research on Social Media\", \"modes\": \"theory\", \"variable\": \"tags_1\", \"value\": \"visualization\"}, {\"title\": \"Review of automatic document formatting\", \"modes\": \"theory\", \"variable\": \"tags_1\", \"value\": \"layout\"}, {\"title\": \"Toward tighter tables\", \"modes\": \"tools\", \"variable\": \"tags_1\", \"value\": \"visualization\"}, {\"title\": \"Toward tighter tables\", \"modes\": \"tools\", \"variable\": \"tags_2\", \"value\": \"layout\"}, {\"title\": \"The unacknowledged convergence of open source, open access, and open science\", \"modes\": \"theory\", \"variable\": \"tags_1\", \"value\": \"accessibility\"}, {\"title\": \"The unacknowledged convergence of open source, open access, and open science\", \"modes\": \"theory\", \"variable\": \"tags_2\", \"value\": \"publishing/libraries\"}, {\"title\": \"Preregistration Is Hard, And Worthwhile\", \"modes\": \"theory\", \"variable\": \"tags_1\", \"value\": \"publishing/libraries\"}, {\"title\": \"Is Preregistration Worthwhile?\", \"modes\": \"theory\", \"variable\": \"tags_1\", \"value\": \"publishing/libraries\"}, {\"title\": \"Open Science: One Term, Five Schools of Thought\", \"modes\": \"theory\", \"variable\": \"tags_1\", \"value\": \"publishing/libraries\"}, {\"title\": \"The state of OA: a large-scale analysis of the prevalence and impact of Open Access articles\", \"modes\": \"theory\", \"variable\": \"tags_1\", \"value\": \"publishing/libraries\"}, {\"title\": \"The state of OA: a large-scale analysis of the prevalence and impact of Open Access articles\", \"modes\": \"theory\", \"variable\": \"tags_2\", \"value\": \"accessibility\"}, {\"title\": \"Going digital\", \"modes\": \"theory\", \"variable\": \"tags_1\", \"value\": \"publishing/libraries\"}]}}, {\"mode\": \"vega-lite\"});\n",
       "</script>"
      ],
      "text/plain": [
       "alt.Chart(...)"
      ]
     },
     "execution_count": 152,
     "metadata": {},
     "output_type": "execute_result"
    }
   ],
   "source": [
    "source = df2\n",
    "source_bar = df2.iloc[:,-4:].drop_duplicates()\n",
    "# alt.data_transformers.disable_max_rows()\n",
    "\n",
    "pts = alt.selection(type=\"multi\", encodings=['x','color'])\n",
    "\n",
    "alt.Chart(source_bar.dropna()).mark_bar().encode(\n",
    "    x='value',\n",
    "    y='count()',\n",
    "    color=alt.condition(pts, 'modes', alt.value('gray'))\n",
    ").add_selection(pts)"
   ]
  },
  {
   "cell_type": "code",
   "execution_count": null,
   "id": "a42f3469",
   "metadata": {},
   "outputs": [],
   "source": []
  },
  {
   "cell_type": "code",
   "execution_count": null,
   "id": "7f7bc2eb",
   "metadata": {},
   "outputs": [],
   "source": [
    "# other stuff I was workshopping - plotly sunburst plot"
   ]
  },
  {
   "cell_type": "code",
   "execution_count": 92,
   "id": "0e4e6c5e",
   "metadata": {},
   "outputs": [
    {
     "data": {
      "text/html": [
       "<div>\n",
       "<style scoped>\n",
       "    .dataframe tbody tr th:only-of-type {\n",
       "        vertical-align: middle;\n",
       "    }\n",
       "\n",
       "    .dataframe tbody tr th {\n",
       "        vertical-align: top;\n",
       "    }\n",
       "\n",
       "    .dataframe thead th {\n",
       "        text-align: right;\n",
       "    }\n",
       "</style>\n",
       "<table border=\"1\" class=\"dataframe\">\n",
       "  <thead>\n",
       "    <tr style=\"text-align: right;\">\n",
       "      <th></th>\n",
       "      <th>title</th>\n",
       "      <th>modes</th>\n",
       "      <th>variable</th>\n",
       "      <th>value</th>\n",
       "    </tr>\n",
       "  </thead>\n",
       "  <tbody>\n",
       "    <tr>\n",
       "      <th>0</th>\n",
       "      <td>A Computational Inflection for Scientific Disc...</td>\n",
       "      <td>theory</td>\n",
       "      <td>tags_1</td>\n",
       "      <td>augmented_lit_search</td>\n",
       "    </tr>\n",
       "    <tr>\n",
       "      <th>1</th>\n",
       "      <td>Communicating with Interactive Articles</td>\n",
       "      <td>theory</td>\n",
       "      <td>tags_1</td>\n",
       "      <td>augmented_visualization</td>\n",
       "    </tr>\n",
       "    <tr>\n",
       "      <th>2</th>\n",
       "      <td>Capture &amp;amp; Analysis of Active Reading Behav...</td>\n",
       "      <td>tools</td>\n",
       "      <td>tags_1</td>\n",
       "      <td>authoring</td>\n",
       "    </tr>\n",
       "    <tr>\n",
       "      <th>3</th>\n",
       "      <td>Literate Programming</td>\n",
       "      <td>tools</td>\n",
       "      <td>tags_1</td>\n",
       "      <td>augmented_formatting</td>\n",
       "    </tr>\n",
       "    <tr>\n",
       "      <th>4</th>\n",
       "      <td>Exploration and Explanation in Computational N...</td>\n",
       "      <td>theory</td>\n",
       "      <td>tags_1</td>\n",
       "      <td>authoring</td>\n",
       "    </tr>\n",
       "    <tr>\n",
       "      <th>...</th>\n",
       "      <td>...</td>\n",
       "      <td>...</td>\n",
       "      <td>...</td>\n",
       "      <td>...</td>\n",
       "    </tr>\n",
       "    <tr>\n",
       "      <th>247</th>\n",
       "      <td>Open Science: One Term, Five Schools of Thought</td>\n",
       "      <td>theory</td>\n",
       "      <td>tags_4</td>\n",
       "      <td>NaN</td>\n",
       "    </tr>\n",
       "    <tr>\n",
       "      <th>248</th>\n",
       "      <td>The state of OA: a large-scale analysis of the...</td>\n",
       "      <td>theory</td>\n",
       "      <td>tags_4</td>\n",
       "      <td>NaN</td>\n",
       "    </tr>\n",
       "    <tr>\n",
       "      <th>249</th>\n",
       "      <td>Going digital</td>\n",
       "      <td>theory</td>\n",
       "      <td>tags_4</td>\n",
       "      <td>NaN</td>\n",
       "    </tr>\n",
       "    <tr>\n",
       "      <th>250</th>\n",
       "      <td>ArXiv at 20</td>\n",
       "      <td>theory</td>\n",
       "      <td>tags_4</td>\n",
       "      <td>NaN</td>\n",
       "    </tr>\n",
       "    <tr>\n",
       "      <th>251</th>\n",
       "      <td>Distill Hiatus</td>\n",
       "      <td>theory</td>\n",
       "      <td>tags_4</td>\n",
       "      <td>NaN</td>\n",
       "    </tr>\n",
       "  </tbody>\n",
       "</table>\n",
       "<p>252 rows × 4 columns</p>\n",
       "</div>"
      ],
      "text/plain": [
       "                                                 title   modes variable  \\\n",
       "0    A Computational Inflection for Scientific Disc...  theory   tags_1   \n",
       "1              Communicating with Interactive Articles  theory   tags_1   \n",
       "2    Capture &amp; Analysis of Active Reading Behav...   tools   tags_1   \n",
       "3                                 Literate Programming   tools   tags_1   \n",
       "4    Exploration and Explanation in Computational N...  theory   tags_1   \n",
       "..                                                 ...     ...      ...   \n",
       "247    Open Science: One Term, Five Schools of Thought  theory   tags_4   \n",
       "248  The state of OA: a large-scale analysis of the...  theory   tags_4   \n",
       "249                                      Going digital  theory   tags_4   \n",
       "250                                        ArXiv at 20  theory   tags_4   \n",
       "251                                     Distill Hiatus  theory   tags_4   \n",
       "\n",
       "                       value  \n",
       "0       augmented_lit_search  \n",
       "1    augmented_visualization  \n",
       "2                  authoring  \n",
       "3       augmented_formatting  \n",
       "4                  authoring  \n",
       "..                       ...  \n",
       "247                      NaN  \n",
       "248                      NaN  \n",
       "249                      NaN  \n",
       "250                      NaN  \n",
       "251                      NaN  \n",
       "\n",
       "[252 rows x 4 columns]"
      ]
     },
     "execution_count": 92,
     "metadata": {},
     "output_type": "execute_result"
    }
   ],
   "source": [
    "df_long = pd.melt(df, id_vars=['title','modes'] , value_vars=['tags_1', 'tags_2', 'tags_3', 'tags_4'])\n",
    "df_long"
   ]
  },
  {
   "cell_type": "code",
   "execution_count": 102,
   "id": "704ee6b3",
   "metadata": {},
   "outputs": [],
   "source": [
    "df_long_tools = df_long[df_long.modes.isin(['tools'])]\n",
    "df_long_theory = df_long[df_long.modes.isin(['theory'])]\n",
    "\n",
    "tools_df = pd.DataFrame(df_long_tools['value'].value_counts().rename_axis('tags').reset_index(name='counts'))\n",
    "theory_df = pd.DataFrame(df_long_theory['value'].value_counts().rename_axis('tags').reset_index(name='counts'))\n",
    "tools_df['modes'] = 'tools'\n",
    "theory_df['modes'] = 'theory'\n",
    "\n",
    "df_plot = tools_df.merge(theory_df,how='outer')\n",
    "\n"
   ]
  },
  {
   "cell_type": "code",
   "execution_count": 108,
   "id": "aea0c8b8",
   "metadata": {},
   "outputs": [],
   "source": [
    "df_plot = df_plot.replace('augmented_formatting','layout')\n",
    "df_plot = df_plot.replace('augmented_visualization','visualization')\n",
    "df_plot = df_plot.replace('augmented_lit_search','lit_search')"
   ]
  },
  {
   "cell_type": "code",
   "execution_count": 111,
   "id": "e2c4b62f",
   "metadata": {},
   "outputs": [
    {
     "data": {
      "application/vnd.plotly.v1+json": {
       "config": {
        "plotlyServerURL": "https://plot.ly"
       },
       "data": [
        {
         "branchvalues": "total",
         "domain": {
          "x": [
           0,
           1
          ],
          "y": [
           0,
           1
          ]
         },
         "hovertemplate": "labels=%{label}<br>counts=%{value}<br>parent=%{parent}<br>id=%{id}<extra></extra>",
         "ids": [
          "theory/accessibility",
          "tools/accessibility",
          "theory/analytics",
          "tools/analytics",
          "theory/authoring",
          "tools/authoring",
          "theory/collaboration",
          "tools/collaboration",
          "theory/layout",
          "tools/layout",
          "theory/lit_search",
          "tools/lit_search",
          "theory/publishing/libraries",
          "tools/publishing/libraries",
          "theory/understanding",
          "tools/understanding",
          "theory/visualization",
          "tools/visualization",
          "theory",
          "tools"
         ],
         "labels": [
          "accessibility",
          "accessibility",
          "analytics",
          "analytics",
          "authoring",
          "authoring",
          "collaboration",
          "collaboration",
          "layout",
          "layout",
          "lit_search",
          "lit_search",
          "publishing/libraries",
          "publishing/libraries",
          "understanding",
          "understanding",
          "visualization",
          "visualization",
          "theory",
          "tools"
         ],
         "name": "",
         "parents": [
          "theory",
          "tools",
          "theory",
          "tools",
          "theory",
          "tools",
          "theory",
          "tools",
          "theory",
          "tools",
          "theory",
          "tools",
          "theory",
          "tools",
          "theory",
          "tools",
          "theory",
          "tools",
          "",
          ""
         ],
         "type": "sunburst",
         "values": [
          4,
          3,
          2,
          3,
          1,
          5,
          4,
          3,
          8,
          11,
          6,
          10,
          8,
          1,
          2,
          6,
          6,
          12,
          41,
          54
         ]
        }
       ],
       "layout": {
        "legend": {
         "tracegroupgap": 0
        },
        "margin": {
         "t": 60
        },
        "template": {
         "data": {
          "bar": [
           {
            "error_x": {
             "color": "#2a3f5f"
            },
            "error_y": {
             "color": "#2a3f5f"
            },
            "marker": {
             "line": {
              "color": "#E5ECF6",
              "width": 0.5
             },
             "pattern": {
              "fillmode": "overlay",
              "size": 10,
              "solidity": 0.2
             }
            },
            "type": "bar"
           }
          ],
          "barpolar": [
           {
            "marker": {
             "line": {
              "color": "#E5ECF6",
              "width": 0.5
             },
             "pattern": {
              "fillmode": "overlay",
              "size": 10,
              "solidity": 0.2
             }
            },
            "type": "barpolar"
           }
          ],
          "carpet": [
           {
            "aaxis": {
             "endlinecolor": "#2a3f5f",
             "gridcolor": "white",
             "linecolor": "white",
             "minorgridcolor": "white",
             "startlinecolor": "#2a3f5f"
            },
            "baxis": {
             "endlinecolor": "#2a3f5f",
             "gridcolor": "white",
             "linecolor": "white",
             "minorgridcolor": "white",
             "startlinecolor": "#2a3f5f"
            },
            "type": "carpet"
           }
          ],
          "choropleth": [
           {
            "colorbar": {
             "outlinewidth": 0,
             "ticks": ""
            },
            "type": "choropleth"
           }
          ],
          "contour": [
           {
            "colorbar": {
             "outlinewidth": 0,
             "ticks": ""
            },
            "colorscale": [
             [
              0,
              "#0d0887"
             ],
             [
              0.1111111111111111,
              "#46039f"
             ],
             [
              0.2222222222222222,
              "#7201a8"
             ],
             [
              0.3333333333333333,
              "#9c179e"
             ],
             [
              0.4444444444444444,
              "#bd3786"
             ],
             [
              0.5555555555555556,
              "#d8576b"
             ],
             [
              0.6666666666666666,
              "#ed7953"
             ],
             [
              0.7777777777777778,
              "#fb9f3a"
             ],
             [
              0.8888888888888888,
              "#fdca26"
             ],
             [
              1,
              "#f0f921"
             ]
            ],
            "type": "contour"
           }
          ],
          "contourcarpet": [
           {
            "colorbar": {
             "outlinewidth": 0,
             "ticks": ""
            },
            "type": "contourcarpet"
           }
          ],
          "heatmap": [
           {
            "colorbar": {
             "outlinewidth": 0,
             "ticks": ""
            },
            "colorscale": [
             [
              0,
              "#0d0887"
             ],
             [
              0.1111111111111111,
              "#46039f"
             ],
             [
              0.2222222222222222,
              "#7201a8"
             ],
             [
              0.3333333333333333,
              "#9c179e"
             ],
             [
              0.4444444444444444,
              "#bd3786"
             ],
             [
              0.5555555555555556,
              "#d8576b"
             ],
             [
              0.6666666666666666,
              "#ed7953"
             ],
             [
              0.7777777777777778,
              "#fb9f3a"
             ],
             [
              0.8888888888888888,
              "#fdca26"
             ],
             [
              1,
              "#f0f921"
             ]
            ],
            "type": "heatmap"
           }
          ],
          "heatmapgl": [
           {
            "colorbar": {
             "outlinewidth": 0,
             "ticks": ""
            },
            "colorscale": [
             [
              0,
              "#0d0887"
             ],
             [
              0.1111111111111111,
              "#46039f"
             ],
             [
              0.2222222222222222,
              "#7201a8"
             ],
             [
              0.3333333333333333,
              "#9c179e"
             ],
             [
              0.4444444444444444,
              "#bd3786"
             ],
             [
              0.5555555555555556,
              "#d8576b"
             ],
             [
              0.6666666666666666,
              "#ed7953"
             ],
             [
              0.7777777777777778,
              "#fb9f3a"
             ],
             [
              0.8888888888888888,
              "#fdca26"
             ],
             [
              1,
              "#f0f921"
             ]
            ],
            "type": "heatmapgl"
           }
          ],
          "histogram": [
           {
            "marker": {
             "pattern": {
              "fillmode": "overlay",
              "size": 10,
              "solidity": 0.2
             }
            },
            "type": "histogram"
           }
          ],
          "histogram2d": [
           {
            "colorbar": {
             "outlinewidth": 0,
             "ticks": ""
            },
            "colorscale": [
             [
              0,
              "#0d0887"
             ],
             [
              0.1111111111111111,
              "#46039f"
             ],
             [
              0.2222222222222222,
              "#7201a8"
             ],
             [
              0.3333333333333333,
              "#9c179e"
             ],
             [
              0.4444444444444444,
              "#bd3786"
             ],
             [
              0.5555555555555556,
              "#d8576b"
             ],
             [
              0.6666666666666666,
              "#ed7953"
             ],
             [
              0.7777777777777778,
              "#fb9f3a"
             ],
             [
              0.8888888888888888,
              "#fdca26"
             ],
             [
              1,
              "#f0f921"
             ]
            ],
            "type": "histogram2d"
           }
          ],
          "histogram2dcontour": [
           {
            "colorbar": {
             "outlinewidth": 0,
             "ticks": ""
            },
            "colorscale": [
             [
              0,
              "#0d0887"
             ],
             [
              0.1111111111111111,
              "#46039f"
             ],
             [
              0.2222222222222222,
              "#7201a8"
             ],
             [
              0.3333333333333333,
              "#9c179e"
             ],
             [
              0.4444444444444444,
              "#bd3786"
             ],
             [
              0.5555555555555556,
              "#d8576b"
             ],
             [
              0.6666666666666666,
              "#ed7953"
             ],
             [
              0.7777777777777778,
              "#fb9f3a"
             ],
             [
              0.8888888888888888,
              "#fdca26"
             ],
             [
              1,
              "#f0f921"
             ]
            ],
            "type": "histogram2dcontour"
           }
          ],
          "mesh3d": [
           {
            "colorbar": {
             "outlinewidth": 0,
             "ticks": ""
            },
            "type": "mesh3d"
           }
          ],
          "parcoords": [
           {
            "line": {
             "colorbar": {
              "outlinewidth": 0,
              "ticks": ""
             }
            },
            "type": "parcoords"
           }
          ],
          "pie": [
           {
            "automargin": true,
            "type": "pie"
           }
          ],
          "scatter": [
           {
            "marker": {
             "colorbar": {
              "outlinewidth": 0,
              "ticks": ""
             }
            },
            "type": "scatter"
           }
          ],
          "scatter3d": [
           {
            "line": {
             "colorbar": {
              "outlinewidth": 0,
              "ticks": ""
             }
            },
            "marker": {
             "colorbar": {
              "outlinewidth": 0,
              "ticks": ""
             }
            },
            "type": "scatter3d"
           }
          ],
          "scattercarpet": [
           {
            "marker": {
             "colorbar": {
              "outlinewidth": 0,
              "ticks": ""
             }
            },
            "type": "scattercarpet"
           }
          ],
          "scattergeo": [
           {
            "marker": {
             "colorbar": {
              "outlinewidth": 0,
              "ticks": ""
             }
            },
            "type": "scattergeo"
           }
          ],
          "scattergl": [
           {
            "marker": {
             "colorbar": {
              "outlinewidth": 0,
              "ticks": ""
             }
            },
            "type": "scattergl"
           }
          ],
          "scattermapbox": [
           {
            "marker": {
             "colorbar": {
              "outlinewidth": 0,
              "ticks": ""
             }
            },
            "type": "scattermapbox"
           }
          ],
          "scatterpolar": [
           {
            "marker": {
             "colorbar": {
              "outlinewidth": 0,
              "ticks": ""
             }
            },
            "type": "scatterpolar"
           }
          ],
          "scatterpolargl": [
           {
            "marker": {
             "colorbar": {
              "outlinewidth": 0,
              "ticks": ""
             }
            },
            "type": "scatterpolargl"
           }
          ],
          "scatterternary": [
           {
            "marker": {
             "colorbar": {
              "outlinewidth": 0,
              "ticks": ""
             }
            },
            "type": "scatterternary"
           }
          ],
          "surface": [
           {
            "colorbar": {
             "outlinewidth": 0,
             "ticks": ""
            },
            "colorscale": [
             [
              0,
              "#0d0887"
             ],
             [
              0.1111111111111111,
              "#46039f"
             ],
             [
              0.2222222222222222,
              "#7201a8"
             ],
             [
              0.3333333333333333,
              "#9c179e"
             ],
             [
              0.4444444444444444,
              "#bd3786"
             ],
             [
              0.5555555555555556,
              "#d8576b"
             ],
             [
              0.6666666666666666,
              "#ed7953"
             ],
             [
              0.7777777777777778,
              "#fb9f3a"
             ],
             [
              0.8888888888888888,
              "#fdca26"
             ],
             [
              1,
              "#f0f921"
             ]
            ],
            "type": "surface"
           }
          ],
          "table": [
           {
            "cells": {
             "fill": {
              "color": "#EBF0F8"
             },
             "line": {
              "color": "white"
             }
            },
            "header": {
             "fill": {
              "color": "#C8D4E3"
             },
             "line": {
              "color": "white"
             }
            },
            "type": "table"
           }
          ]
         },
         "layout": {
          "annotationdefaults": {
           "arrowcolor": "#2a3f5f",
           "arrowhead": 0,
           "arrowwidth": 1
          },
          "autotypenumbers": "strict",
          "coloraxis": {
           "colorbar": {
            "outlinewidth": 0,
            "ticks": ""
           }
          },
          "colorscale": {
           "diverging": [
            [
             0,
             "#8e0152"
            ],
            [
             0.1,
             "#c51b7d"
            ],
            [
             0.2,
             "#de77ae"
            ],
            [
             0.3,
             "#f1b6da"
            ],
            [
             0.4,
             "#fde0ef"
            ],
            [
             0.5,
             "#f7f7f7"
            ],
            [
             0.6,
             "#e6f5d0"
            ],
            [
             0.7,
             "#b8e186"
            ],
            [
             0.8,
             "#7fbc41"
            ],
            [
             0.9,
             "#4d9221"
            ],
            [
             1,
             "#276419"
            ]
           ],
           "sequential": [
            [
             0,
             "#0d0887"
            ],
            [
             0.1111111111111111,
             "#46039f"
            ],
            [
             0.2222222222222222,
             "#7201a8"
            ],
            [
             0.3333333333333333,
             "#9c179e"
            ],
            [
             0.4444444444444444,
             "#bd3786"
            ],
            [
             0.5555555555555556,
             "#d8576b"
            ],
            [
             0.6666666666666666,
             "#ed7953"
            ],
            [
             0.7777777777777778,
             "#fb9f3a"
            ],
            [
             0.8888888888888888,
             "#fdca26"
            ],
            [
             1,
             "#f0f921"
            ]
           ],
           "sequentialminus": [
            [
             0,
             "#0d0887"
            ],
            [
             0.1111111111111111,
             "#46039f"
            ],
            [
             0.2222222222222222,
             "#7201a8"
            ],
            [
             0.3333333333333333,
             "#9c179e"
            ],
            [
             0.4444444444444444,
             "#bd3786"
            ],
            [
             0.5555555555555556,
             "#d8576b"
            ],
            [
             0.6666666666666666,
             "#ed7953"
            ],
            [
             0.7777777777777778,
             "#fb9f3a"
            ],
            [
             0.8888888888888888,
             "#fdca26"
            ],
            [
             1,
             "#f0f921"
            ]
           ]
          },
          "colorway": [
           "#636efa",
           "#EF553B",
           "#00cc96",
           "#ab63fa",
           "#FFA15A",
           "#19d3f3",
           "#FF6692",
           "#B6E880",
           "#FF97FF",
           "#FECB52"
          ],
          "font": {
           "color": "#2a3f5f"
          },
          "geo": {
           "bgcolor": "white",
           "lakecolor": "white",
           "landcolor": "#E5ECF6",
           "showlakes": true,
           "showland": true,
           "subunitcolor": "white"
          },
          "hoverlabel": {
           "align": "left"
          },
          "hovermode": "closest",
          "mapbox": {
           "style": "light"
          },
          "paper_bgcolor": "white",
          "plot_bgcolor": "#E5ECF6",
          "polar": {
           "angularaxis": {
            "gridcolor": "white",
            "linecolor": "white",
            "ticks": ""
           },
           "bgcolor": "#E5ECF6",
           "radialaxis": {
            "gridcolor": "white",
            "linecolor": "white",
            "ticks": ""
           }
          },
          "scene": {
           "xaxis": {
            "backgroundcolor": "#E5ECF6",
            "gridcolor": "white",
            "gridwidth": 2,
            "linecolor": "white",
            "showbackground": true,
            "ticks": "",
            "zerolinecolor": "white"
           },
           "yaxis": {
            "backgroundcolor": "#E5ECF6",
            "gridcolor": "white",
            "gridwidth": 2,
            "linecolor": "white",
            "showbackground": true,
            "ticks": "",
            "zerolinecolor": "white"
           },
           "zaxis": {
            "backgroundcolor": "#E5ECF6",
            "gridcolor": "white",
            "gridwidth": 2,
            "linecolor": "white",
            "showbackground": true,
            "ticks": "",
            "zerolinecolor": "white"
           }
          },
          "shapedefaults": {
           "line": {
            "color": "#2a3f5f"
           }
          },
          "ternary": {
           "aaxis": {
            "gridcolor": "white",
            "linecolor": "white",
            "ticks": ""
           },
           "baxis": {
            "gridcolor": "white",
            "linecolor": "white",
            "ticks": ""
           },
           "bgcolor": "#E5ECF6",
           "caxis": {
            "gridcolor": "white",
            "linecolor": "white",
            "ticks": ""
           }
          },
          "title": {
           "x": 0.05
          },
          "xaxis": {
           "automargin": true,
           "gridcolor": "white",
           "linecolor": "white",
           "ticks": "",
           "title": {
            "standoff": 15
           },
           "zerolinecolor": "white",
           "zerolinewidth": 2
          },
          "yaxis": {
           "automargin": true,
           "gridcolor": "white",
           "linecolor": "white",
           "ticks": "",
           "title": {
            "standoff": 15
           },
           "zerolinecolor": "white",
           "zerolinewidth": 2
          }
         }
        }
       }
      }
     },
     "metadata": {},
     "output_type": "display_data"
    }
   ],
   "source": [
    "import plotly.express as px\n",
    "\n",
    "# df_plot = df_long\n",
    "\n",
    "# df_plot = px.data.gapminder().query(\"year == 2007\")\n",
    "fig = px.sunburst(df_plot, path=['modes', 'tags'], values='counts',\n",
    "                  hover_data=[])\n",
    "fig.show()"
   ]
  },
  {
   "cell_type": "code",
   "execution_count": null,
   "id": "1a96697a",
   "metadata": {},
   "outputs": [],
   "source": []
  },
  {
   "cell_type": "code",
   "execution_count": null,
   "id": "e934ac59",
   "metadata": {},
   "outputs": [],
   "source": []
  },
  {
   "cell_type": "code",
   "execution_count": null,
   "id": "f4de691d",
   "metadata": {},
   "outputs": [],
   "source": []
  },
  {
   "cell_type": "code",
   "execution_count": 23,
   "id": "39b343cd",
   "metadata": {},
   "outputs": [
    {
     "data": {
      "text/html": [
       "\n",
       "<div id=\"altair-viz-2b4be7bc223c42999a6ad965b01da63a\"></div>\n",
       "<script type=\"text/javascript\">\n",
       "  var VEGA_DEBUG = (typeof VEGA_DEBUG == \"undefined\") ? {} : VEGA_DEBUG;\n",
       "  (function(spec, embedOpt){\n",
       "    let outputDiv = document.currentScript.previousElementSibling;\n",
       "    if (outputDiv.id !== \"altair-viz-2b4be7bc223c42999a6ad965b01da63a\") {\n",
       "      outputDiv = document.getElementById(\"altair-viz-2b4be7bc223c42999a6ad965b01da63a\");\n",
       "    }\n",
       "    const paths = {\n",
       "      \"vega\": \"https://cdn.jsdelivr.net/npm//vega@5?noext\",\n",
       "      \"vega-lib\": \"https://cdn.jsdelivr.net/npm//vega-lib?noext\",\n",
       "      \"vega-lite\": \"https://cdn.jsdelivr.net/npm//vega-lite@4.17.0?noext\",\n",
       "      \"vega-embed\": \"https://cdn.jsdelivr.net/npm//vega-embed@6?noext\",\n",
       "    };\n",
       "\n",
       "    function maybeLoadScript(lib, version) {\n",
       "      var key = `${lib.replace(\"-\", \"\")}_version`;\n",
       "      return (VEGA_DEBUG[key] == version) ?\n",
       "        Promise.resolve(paths[lib]) :\n",
       "        new Promise(function(resolve, reject) {\n",
       "          var s = document.createElement('script');\n",
       "          document.getElementsByTagName(\"head\")[0].appendChild(s);\n",
       "          s.async = true;\n",
       "          s.onload = () => {\n",
       "            VEGA_DEBUG[key] = version;\n",
       "            return resolve(paths[lib]);\n",
       "          };\n",
       "          s.onerror = () => reject(`Error loading script: ${paths[lib]}`);\n",
       "          s.src = paths[lib];\n",
       "        });\n",
       "    }\n",
       "\n",
       "    function showError(err) {\n",
       "      outputDiv.innerHTML = `<div class=\"error\" style=\"color:red;\">${err}</div>`;\n",
       "      throw err;\n",
       "    }\n",
       "\n",
       "    function displayChart(vegaEmbed) {\n",
       "      vegaEmbed(outputDiv, spec, embedOpt)\n",
       "        .catch(err => showError(`Javascript Error: ${err.message}<br>This usually means there's a typo in your chart specification. See the javascript console for the full traceback.`));\n",
       "    }\n",
       "\n",
       "    if(typeof define === \"function\" && define.amd) {\n",
       "      requirejs.config({paths});\n",
       "      require([\"vega-embed\"], displayChart, err => showError(`Error loading script: ${err.message}`));\n",
       "    } else {\n",
       "      maybeLoadScript(\"vega\", \"5\")\n",
       "        .then(() => maybeLoadScript(\"vega-lite\", \"4.17.0\"))\n",
       "        .then(() => maybeLoadScript(\"vega-embed\", \"6\"))\n",
       "        .catch(showError)\n",
       "        .then(() => displayChart(vegaEmbed));\n",
       "    }\n",
       "  })({\"config\": {\"view\": {\"continuousWidth\": 400, \"continuousHeight\": 300}}, \"vconcat\": [{\"layer\": [{\"mark\": \"rect\", \"encoding\": {\"color\": {\"aggregate\": \"count\", \"legend\": {\"title\": \"Total Records\"}, \"scale\": {\"scheme\": \"greenblue\"}, \"type\": \"quantitative\"}, \"x\": {\"bin\": true, \"field\": \"IMDB_Rating\", \"type\": \"quantitative\"}, \"y\": {\"bin\": true, \"field\": \"Rotten_Tomatoes_Rating\", \"type\": \"quantitative\"}}}, {\"mark\": \"point\", \"encoding\": {\"color\": {\"value\": \"grey\"}, \"size\": {\"aggregate\": \"count\", \"legend\": {\"title\": \"Records in Selection\"}, \"type\": \"quantitative\"}, \"x\": {\"bin\": true, \"field\": \"IMDB_Rating\", \"type\": \"quantitative\"}, \"y\": {\"bin\": true, \"field\": \"Rotten_Tomatoes_Rating\", \"type\": \"quantitative\"}}, \"transform\": [{\"filter\": {\"selection\": \"selector002\"}}]}], \"data\": {\"url\": \"https://cdn.jsdelivr.net/npm/vega-datasets@v1.29.0/data/movies.json\"}}, {\"data\": {\"url\": \"https://cdn.jsdelivr.net/npm/vega-datasets@v1.29.0/data/movies.json\"}, \"mark\": \"bar\", \"encoding\": {\"color\": {\"condition\": {\"value\": \"steelblue\", \"selection\": \"selector002\"}, \"value\": \"grey\"}, \"x\": {\"field\": \"Major_Genre\", \"type\": \"nominal\"}, \"y\": {\"aggregate\": \"count\", \"type\": \"quantitative\"}}, \"height\": 200, \"selection\": {\"selector002\": {\"type\": \"single\", \"encodings\": [\"x\"]}}, \"width\": 550}], \"resolve\": {\"legend\": {\"color\": \"independent\", \"size\": \"independent\"}}, \"$schema\": \"https://vega.github.io/schema/vega-lite/v4.17.0.json\"}, {\"mode\": \"vega-lite\"});\n",
       "</script>"
      ],
      "text/plain": [
       "alt.VConcatChart(...)"
      ]
     },
     "execution_count": 23,
     "metadata": {},
     "output_type": "execute_result"
    }
   ],
   "source": [
    "import altair as alt\n",
    "from vega_datasets import data\n",
    "\n",
    "source = data.movies.url\n",
    "\n",
    "pts = alt.selection(type=\"single\", encodings=['x'])\n",
    "\n",
    "rect = alt.Chart(data.movies.url).mark_rect().encode(\n",
    "    alt.X('IMDB_Rating:Q', bin=True),\n",
    "    alt.Y('Rotten_Tomatoes_Rating:Q', bin=True),\n",
    "    alt.Color('count()',\n",
    "        scale=alt.Scale(scheme='greenblue'),\n",
    "        legend=alt.Legend(title='Total Records')\n",
    "    )\n",
    ")\n",
    "\n",
    "circ = rect.mark_point().encode(\n",
    "    alt.ColorValue('grey'),\n",
    "    alt.Size('count()',\n",
    "        legend=alt.Legend(title='Records in Selection')\n",
    "    )\n",
    ").transform_filter(\n",
    "    pts\n",
    ")\n",
    "\n",
    "bar = alt.Chart(source).mark_bar().encode(\n",
    "    x='Major_Genre:N',\n",
    "    y='count()',\n",
    "    color=alt.condition(pts, alt.ColorValue(\"steelblue\"), alt.ColorValue(\"grey\"))\n",
    ").properties(\n",
    "    width=550,\n",
    "    height=200\n",
    ").add_selection(pts)\n",
    "\n",
    "alt.vconcat(\n",
    "    rect + circ,\n",
    "    bar\n",
    ").resolve_legend(\n",
    "    color=\"independent\",\n",
    "    size=\"independent\"\n",
    ")"
   ]
  },
  {
   "cell_type": "code",
   "execution_count": null,
   "id": "5b9c5052",
   "metadata": {},
   "outputs": [],
   "source": []
  }
 ],
 "metadata": {
  "interpreter": {
   "hash": "5352051762ca122a68ba495c500f89382b09e2bc34e32f8000bc1060b2b34fee"
  },
  "kernelspec": {
   "display_name": "Python 3.7.6 ('base')",
   "language": "python",
   "name": "python3"
  },
  "language_info": {
   "codemirror_mode": {
    "name": "ipython",
    "version": 3
   },
   "file_extension": ".py",
   "mimetype": "text/x-python",
   "name": "python",
   "nbconvert_exporter": "python",
   "pygments_lexer": "ipython3",
   "version": "3.7.6"
  }
 },
 "nbformat": 4,
 "nbformat_minor": 5
}
